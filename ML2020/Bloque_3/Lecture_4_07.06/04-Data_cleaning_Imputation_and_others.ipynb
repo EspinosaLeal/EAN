{
 "cells": [
  {
   "cell_type": "markdown",
   "metadata": {
    "slideshow": {
     "slide_type": "slide"
    }
   },
   "source": [
    "<center>\n",
    "<img src=\"./images/EAN.jpg\" style=\"width:1200px\">\n",
    "</center>"
   ]
  },
  {
   "cell_type": "markdown",
   "metadata": {
    "slideshow": {
     "slide_type": "slide"
    }
   },
   "source": [
    "<center>\n",
    "<img src=\"./images/0_intro_ml.jpg\" style=\"width:1200px\">\n",
    "</center>"
   ]
  },
  {
   "cell_type": "markdown",
   "metadata": {
    "slideshow": {
     "slide_type": "slide"
    }
   },
   "source": [
    "## Lecture 4: Representing Data and Engineering Features\n",
    "*And Other Techniques for dealing with data*\n",
    "\n",
    "## Instructors:\n",
    "\n",
    ">Leonardo A. Espinosa, PhD. Instructor.\n",
    "(*email*: leonardo.espinosaleal@arcada.fi)\n",
    "\n",
    "> Ruben D. Acosta, MSc. Instructor.\n",
    "(*email*:  rdacostav@universidadean.edu.co)"
   ]
  },
  {
   "cell_type": "markdown",
   "metadata": {
    "slideshow": {
     "slide_type": "slide"
    }
   },
   "source": [
    "# Goal for today\n",
    "\n",
    "* Understand the basic methods of representation data and how perform engineering feature to improve machine learning models.\n",
    "* Identify the main methods and the advantages and disadvantages of those methods."
   ]
  },
  {
   "cell_type": "markdown",
   "metadata": {
    "nbpresent": {
     "id": "39576c63-298e-4a6d-ac14-aba4e1c4d006"
    },
    "slideshow": {
     "slide_type": "slide"
    }
   },
   "source": [
    "1\\. <a href=\"#/3/1\">Introduction</a>\n",
    "\n",
    "2\\. <a href=\"#/31/1\">Encoding Categorical Values</a>\n",
    "   * <a href=\"#/56/1\">Model dependent encoding</a>\n",
    "   * <a href=\"#/56/1\">Automatic Feature Selection and AutoML</a>\n",
    " \n",
    "3\\. <a href=\"#/31/1\">Imputation of missing values</a>\n",
    " \n",
    "4\\. <a href=\"#/54/1\">Novelty and Outlier Detection</a>\n",
    "   * <a href=\"#/56/1\">Overview of outlier detection methods</a>.\n",
    "   * <a href=\"#/57/1\">Novelty Detection</a>.\n",
    "   * <a href=\"#/59/1\">Outlier Detection</a>.\n",
    "   \n",
    "5\\. <a href=\"#/64/1\">Conclusions</a>"
   ]
  },
  {
   "cell_type": "markdown",
   "metadata": {
    "slideshow": {
     "slide_type": "slide"
    }
   },
   "source": [
    "# Introduction\n",
    "\n",
    "* **Descriptive Analytics**, which use data aggregation and data mining to provide insight into the past and answer: “What has happened?”\n",
    "* **Predictive Analytics**, which use statistical models and forecasts techniques to understand the future and answer: “What could happen?”\n",
    "* **Prescriptive Analytics**, which use optimization and simulation algorithms to advice on possible outcomes and answer: “What should we do?”\n"
   ]
  },
  {
   "cell_type": "markdown",
   "metadata": {
    "slideshow": {
     "slide_type": "slide"
    }
   },
   "source": [
    "<center><img src=\"./images/3.png\" alt=\"Drawing\" style=\"width: 850px;\"/></center>\n",
    "\n",
    "source: Gartner."
   ]
  },
  {
   "cell_type": "markdown",
   "metadata": {
    "slideshow": {
     "slide_type": "slide"
    }
   },
   "source": [
    "<center><img src=\"./images/descriptive_ML.png\" alt=\"Drawing\" style=\"width: 1000px;\"/></center>\n",
    "\n",
    ">source: Review and big data perspectives on robust data mining approaches for industrial process modeling with outliers and missing data \n",
    "(https://doi.org/10.1016/j.arcontrol.2018.09.003)"
   ]
  },
  {
   "cell_type": "code",
   "execution_count": null,
   "metadata": {
    "slideshow": {
     "slide_type": "slide"
    }
   },
   "outputs": [],
   "source": []
  },
  {
   "cell_type": "code",
   "execution_count": null,
   "metadata": {
    "slideshow": {
     "slide_type": "slide"
    }
   },
   "outputs": [],
   "source": [
    "%matplotlib inline\n",
    "import pandas as pd\n",
    "import matplotlib.pyplot as plt\n",
    "import numpy as np\n",
    "import mglearn\n",
    "from IPython.display import display\n",
    "\n",
    "from matplotlib import rc\n",
    "font = {'family' : 'monospace', 'weight' : 'bold', 'size'   : 25}\n",
    "rc('font', **font) \n",
    "\n",
    "plt.rcParams['figure.figsize'] = [20, 10]\n",
    "plt.rcParams['lines.linewidth'] = 5.0\n",
    "plt.rcParams['lines.markersize'] = 15.0\n",
    "\n",
    "import warnings\n",
    "warnings.filterwarnings(\"ignore\", category=DeprecationWarning) \n",
    "warnings.filterwarnings(\"ignore\", category=FutureWarning) "
   ]
  },
  {
   "cell_type": "markdown",
   "metadata": {
    "slideshow": {
     "slide_type": "slide"
    }
   },
   "source": [
    "# Encoding Categorical Values\n",
    "\n",
    "> In many practical Data Science activities, the data set will contain categorical variables. These variables are typically stored as text values which represent various traits."
   ]
  },
  {
   "cell_type": "markdown",
   "metadata": {
    "slideshow": {
     "slide_type": "slide"
    }
   },
   "source": [
    "## The Data Set\n",
    "\n",
    ">This particular Automobile Data Set (from UCI Machine Learning Repository) includes a good mix of categorical values as well as continuous values and serves as a useful example that is relatively easy to understand. "
   ]
  },
  {
   "cell_type": "code",
   "execution_count": null,
   "metadata": {
    "slideshow": {
     "slide_type": "slide"
    }
   },
   "outputs": [],
   "source": [
    "# Define the headers since the data does not have any\n",
    "headers = [\"symboling\", \"normalized_losses\", \"make\", \"fuel_type\", \"aspiration\",\n",
    "           \"num_doors\", \"body_style\", \"drive_wheels\", \"engine_location\",\n",
    "           \"wheel_base\", \"length\", \"width\", \"height\", \"curb_weight\",\n",
    "           \"engine_type\", \"num_cylinders\", \"engine_size\", \"fuel_system\",\n",
    "           \"bore\", \"stroke\", \"compression_ratio\", \"horsepower\", \"peak_rpm\",\n",
    "           \"city_mpg\", \"highway_mpg\", \"price\"]\n",
    "\n",
    "# Read in the CSV file and convert \"?\" to NaN\n",
    "df = pd.read_csv(\"http://mlr.cs.umass.edu/ml/machine-learning-databases/autos/imports-85.data\",\n",
    "                  header=None, names=headers, na_values=\"?\" )\n",
    "df.head()\n"
   ]
  },
  {
   "cell_type": "code",
   "execution_count": null,
   "metadata": {
    "slideshow": {
     "slide_type": "slide"
    }
   },
   "outputs": [],
   "source": [
    "df.dtypes"
   ]
  },
  {
   "cell_type": "markdown",
   "metadata": {
    "slideshow": {
     "slide_type": "slide"
    }
   },
   "source": [
    "### We only select the categorical values from our dataset"
   ]
  },
  {
   "cell_type": "code",
   "execution_count": null,
   "metadata": {
    "slideshow": {
     "slide_type": "fragment"
    }
   },
   "outputs": [],
   "source": [
    "\n",
    "obj_df = df.select_dtypes(include=['object']).copy()\n",
    "obj_df.head()"
   ]
  },
  {
   "cell_type": "code",
   "execution_count": null,
   "metadata": {
    "slideshow": {
     "slide_type": "fragment"
    }
   },
   "outputs": [],
   "source": [
    "obj_df[obj_df.isnull().any(axis=1)]"
   ]
  },
  {
   "cell_type": "markdown",
   "metadata": {
    "slideshow": {
     "slide_type": "slide"
    }
   },
   "source": [
    "### Let's do some basic Nan replacement (more about later)"
   ]
  },
  {
   "cell_type": "code",
   "execution_count": null,
   "metadata": {
    "slideshow": {
     "slide_type": "fragment"
    }
   },
   "outputs": [],
   "source": [
    "obj_df[\"num_doors\"].value_counts()"
   ]
  },
  {
   "cell_type": "code",
   "execution_count": null,
   "metadata": {
    "slideshow": {
     "slide_type": "fragment"
    }
   },
   "outputs": [],
   "source": [
    "obj_df = obj_df.fillna({\"num_doors\": \"four\"})"
   ]
  },
  {
   "cell_type": "code",
   "execution_count": null,
   "metadata": {
    "slideshow": {
     "slide_type": "slide"
    }
   },
   "outputs": [],
   "source": [
    "obj_df"
   ]
  },
  {
   "cell_type": "markdown",
   "metadata": {
    "slideshow": {
     "slide_type": "fragment"
    }
   },
   "source": [
    "### *Now that the data does not have any null values, we can look at options for encoding the categorical values.*"
   ]
  },
  {
   "cell_type": "markdown",
   "metadata": {
    "slideshow": {
     "slide_type": "slide"
    }
   },
   "source": [
    "## Approach #1 - Find and Replace"
   ]
  },
  {
   "cell_type": "code",
   "execution_count": null,
   "metadata": {
    "slideshow": {
     "slide_type": "fragment"
    }
   },
   "outputs": [],
   "source": [
    "obj_df[\"num_cylinders\"].value_counts()"
   ]
  },
  {
   "cell_type": "markdown",
   "metadata": {
    "slideshow": {
     "slide_type": "slide"
    }
   },
   "source": [
    ">dictionary for cleaning up the num_doors and num_cylinders columns:"
   ]
  },
  {
   "cell_type": "code",
   "execution_count": null,
   "metadata": {
    "slideshow": {
     "slide_type": "fragment"
    }
   },
   "outputs": [],
   "source": [
    "cleanup_nums = {\"num_doors\":     {\"four\": 4, \"two\": 2},\n",
    "                \"num_cylinders\": {\"four\": 4, \"six\": 6, \"five\": 5, \"eight\": 8,\n",
    "                                  \"two\": 2, \"twelve\": 12, \"three\":3 }}"
   ]
  },
  {
   "cell_type": "code",
   "execution_count": null,
   "metadata": {
    "slideshow": {
     "slide_type": "fragment"
    }
   },
   "outputs": [],
   "source": [
    "obj_df.replace(cleanup_nums, inplace=True)\n",
    "obj_df.head()"
   ]
  },
  {
   "cell_type": "code",
   "execution_count": null,
   "metadata": {
    "slideshow": {
     "slide_type": "slide"
    }
   },
   "outputs": [],
   "source": [
    "obj_df.dtypes"
   ]
  },
  {
   "cell_type": "markdown",
   "metadata": {
    "slideshow": {
     "slide_type": "slide"
    }
   },
   "source": [
    "## Approach #2 - Label Encoding"
   ]
  },
  {
   "cell_type": "markdown",
   "metadata": {
    "slideshow": {
     "slide_type": "fragment"
    }
   },
   "source": [
    "* convertible $\\to$ 0\n",
    "* hardtop $\\to$ 1\n",
    "* hatchback $\\to$ 2\n",
    "* sedan $\\to$ 3\n",
    "* wagon $\\to$ 4\n"
   ]
  },
  {
   "cell_type": "markdown",
   "metadata": {
    "slideshow": {
     "slide_type": "slide"
    }
   },
   "source": [
    "### *One trick you can use in pandas is to convert a column to a category, then use those category values for your label encoding*"
   ]
  },
  {
   "cell_type": "code",
   "execution_count": null,
   "metadata": {
    "slideshow": {
     "slide_type": "fragment"
    }
   },
   "outputs": [],
   "source": [
    "obj_df[\"body_style\"] = obj_df[\"body_style\"].astype('category')\n",
    "obj_df.dtypes"
   ]
  },
  {
   "cell_type": "code",
   "execution_count": null,
   "metadata": {
    "slideshow": {
     "slide_type": "fragment"
    }
   },
   "outputs": [],
   "source": [
    "obj_df[\"body_style_cat\"] = obj_df[\"body_style\"].cat.codes\n",
    "obj_df.head()"
   ]
  },
  {
   "cell_type": "markdown",
   "metadata": {
    "slideshow": {
     "slide_type": "slide"
    }
   },
   "source": [
    "## Approach #3 - One Hot Encoding"
   ]
  },
  {
   "cell_type": "markdown",
   "metadata": {
    "slideshow": {
     "slide_type": "fragment"
    }
   },
   "source": [
    ">Label encoding has the advantage that it is straightforward but it has the disadvantage that the numeric values can be “misinterpreted” by the algorithms. For example, the value of 0 is obviously less than the value of 4 but does that really correspond to the data set in real life? Does a wagon have “4X” more weight in our calculation than the convertible?"
   ]
  },
  {
   "cell_type": "code",
   "execution_count": null,
   "metadata": {
    "slideshow": {
     "slide_type": "slide"
    }
   },
   "outputs": [],
   "source": [
    "pd.get_dummies(obj_df, columns=[\"drive_wheels\"]).head()"
   ]
  },
  {
   "cell_type": "markdown",
   "metadata": {
    "slideshow": {
     "slide_type": "fragment"
    }
   },
   "source": [
    "The new data set contains three new columns:\n",
    "\n",
    "* drive_wheels_4wd\n",
    "* drive_wheels_rwd\n",
    "* drive_wheels_fwd\n"
   ]
  },
  {
   "cell_type": "markdown",
   "metadata": {
    "slideshow": {
     "slide_type": "slide"
    }
   },
   "source": [
    "### *you can pass as many category columns as you would like and choose how to label the columns using prefix*"
   ]
  },
  {
   "cell_type": "code",
   "execution_count": null,
   "metadata": {
    "slideshow": {
     "slide_type": "fragment"
    }
   },
   "outputs": [],
   "source": [
    "pd.get_dummies(obj_df, columns=[\"body_style\", \"drive_wheels\"], prefix=[\"body\", \"drive\"]).head()"
   ]
  },
  {
   "cell_type": "markdown",
   "metadata": {
    "slideshow": {
     "slide_type": "fragment"
    }
   },
   "source": [
    ">One hot encoding, is very useful but it can cause the number of columns to expand greatly if you have very many unique values in a column. For the number of values in this example, it is not a problem. However you can see how this gets really challenging to manage when you have many more options."
   ]
  },
  {
   "cell_type": "markdown",
   "metadata": {
    "slideshow": {
     "slide_type": "slide"
    }
   },
   "source": [
    "## Approach #4 - Custom Binary Encoding"
   ]
  },
  {
   "cell_type": "markdown",
   "metadata": {
    "slideshow": {
     "slide_type": "fragment"
    }
   },
   "source": [
    ">Depending on the data set, you may be able to use some combination of label encoding and one hot encoding to create a binary column that meets your needs for further analysis."
   ]
  },
  {
   "cell_type": "code",
   "execution_count": null,
   "metadata": {
    "slideshow": {
     "slide_type": "slide"
    }
   },
   "outputs": [],
   "source": [
    "obj_df[\"engine_type\"].value_counts()"
   ]
  },
  {
   "cell_type": "code",
   "execution_count": null,
   "metadata": {
    "slideshow": {
     "slide_type": "fragment"
    }
   },
   "outputs": [],
   "source": [
    "obj_df[\"OHC_Code\"] = np.where(obj_df[\"engine_type\"].str.contains(\"ohc\"), 1, 0)"
   ]
  },
  {
   "cell_type": "code",
   "execution_count": null,
   "metadata": {
    "slideshow": {
     "slide_type": "fragment"
    }
   },
   "outputs": [],
   "source": [
    "obj_df[[\"make\", \"engine_type\", \"OHC_Code\"]].head()"
   ]
  },
  {
   "cell_type": "markdown",
   "metadata": {
    "slideshow": {
     "slide_type": "fragment"
    }
   },
   "source": [
    "This approach can be really useful if there is an option to consolidate to a simple Y/N value in a column. This also highlights how important domain knowledge is to solving the problem in the most efficient manner possible."
   ]
  },
  {
   "cell_type": "markdown",
   "metadata": {
    "slideshow": {
     "slide_type": "slide"
    }
   },
   "source": [
    "## Scikit-Learn for encoding\n",
    "\n",
    "* OrdinalEncoder\n",
    "\n",
    "Encode categorical features as an integer array. The input to this transformer should be an array-like of integers or strings, denoting the values taken on by categorical (discrete) features. The features are converted to ordinal integers. This results in a single column of integers (0 to n_categories - 1) per feature.\n",
    "\n",
    "* LabelEncoder\n",
    "\n",
    "Encode target labels with value between 0 and n_classes-1. This transformer should be used to encode target values, i.e. y, and not the input X."
   ]
  },
  {
   "cell_type": "code",
   "execution_count": null,
   "metadata": {
    "slideshow": {
     "slide_type": "slide"
    }
   },
   "outputs": [],
   "source": [
    "from sklearn.preprocessing import LabelEncoder\n",
    "\n",
    "le = LabelEncoder()\n",
    "cities = [\"paris\", \"paris\", \"tokyo\", \"amsterdam\"] \n",
    "le.fit(cities)\n",
    "print(list(le.classes_))"
   ]
  },
  {
   "cell_type": "code",
   "execution_count": null,
   "metadata": {
    "slideshow": {
     "slide_type": "fragment"
    }
   },
   "outputs": [],
   "source": [
    "print(le.transform([\"tokyo\", \"tokyo\", \"paris\"]))"
   ]
  },
  {
   "cell_type": "code",
   "execution_count": null,
   "metadata": {
    "slideshow": {
     "slide_type": "fragment"
    }
   },
   "outputs": [],
   "source": [
    "le.fit_transform(cities)"
   ]
  },
  {
   "cell_type": "code",
   "execution_count": null,
   "metadata": {
    "slideshow": {
     "slide_type": "slide"
    }
   },
   "outputs": [],
   "source": [
    "from sklearn.preprocessing import LabelEncoder\n",
    "from sklearn.preprocessing import OrdinalEncoder\n",
    "\n",
    "\n",
    "lb_make = LabelEncoder()\n",
    "obj_df[\"make_code\"] = lb_make.fit_transform(obj_df[\"make\"])\n",
    "obj_df[[\"make\", \"make_code\"]].head(11)"
   ]
  },
  {
   "cell_type": "markdown",
   "metadata": {
    "slideshow": {
     "slide_type": "slide"
    }
   },
   "source": [
    ">LabelBinarizer\n",
    "\n",
    "Binarize labels in a one-vs-all fashion. Several regression and binary classification algorithms are available in scikit-learn. A simple way to extend these algorithms to the multi-class classification case is to use the so-called one-vs-all scheme."
   ]
  },
  {
   "cell_type": "code",
   "execution_count": null,
   "metadata": {
    "slideshow": {
     "slide_type": "fragment"
    }
   },
   "outputs": [],
   "source": [
    "from sklearn.preprocessing import LabelBinarizer\n",
    "\n",
    "lb_style = LabelBinarizer()\n",
    "lb_results = lb_style.fit_transform(obj_df[\"body_style\"])\n",
    "pd.DataFrame(lb_results, columns=lb_style.classes_).head()"
   ]
  },
  {
   "cell_type": "markdown",
   "metadata": {
    "slideshow": {
     "slide_type": "slide"
    }
   },
   "source": [
    "## Advanced Approaches\n"
   ]
  },
  {
   "cell_type": "code",
   "execution_count": null,
   "metadata": {
    "slideshow": {
     "slide_type": "fragment"
    }
   },
   "outputs": [],
   "source": [
    "#! pip install category_encoders # to install the package"
   ]
  },
  {
   "cell_type": "code",
   "execution_count": null,
   "metadata": {
    "slideshow": {
     "slide_type": "fragment"
    }
   },
   "outputs": [],
   "source": [
    "import category_encoders as ce\n",
    "\n",
    "# Get a new clean dataframe\n",
    "obj_df2 = df.select_dtypes(include=['object']).copy()\n",
    "\n",
    "# Specify the columns to encode then fit and transform\n",
    "encoder = ce.backward_difference.BackwardDifferenceEncoder(cols=[\"engine_type\"])\n",
    "encoder.fit(obj_df, verbose=1)\n",
    "\n",
    "# Only display the first 8 columns for brevity\n",
    "encoder.transform(obj_df2).iloc[:,6:15].head()\n"
   ]
  },
  {
   "cell_type": "markdown",
   "metadata": {
    "slideshow": {
     "slide_type": "slide"
    }
   },
   "source": [
    "If we try a polynomial encoding, we get a different distribution of values used to encode the columns:"
   ]
  },
  {
   "cell_type": "code",
   "execution_count": null,
   "metadata": {
    "slideshow": {
     "slide_type": "fragment"
    }
   },
   "outputs": [],
   "source": [
    "encoder = ce.polynomial.PolynomialEncoder(cols=[\"engine_type\"])\n",
    "encoder.fit(obj_df2, verbose=1)\n",
    "encoder.transform(obj_df2).iloc[:,6:15].head()"
   ]
  },
  {
   "cell_type": "markdown",
   "metadata": {
    "slideshow": {
     "slide_type": "slide"
    }
   },
   "source": [
    "# Conclusion\n",
    "\n",
    ">Encoding categorical variables is an important step in the data science process. Because there are multiple approaches to encoding variables, it is important to understand the various options and how to implement them on your own data sets. The python data science ecosystem has many helpful approaches to handling these problems. I encourage you to keep these ideas in mind the next time you find yourself analyzing categorical variables. "
   ]
  },
  {
   "cell_type": "markdown",
   "metadata": {
    "slideshow": {
     "slide_type": "slide"
    }
   },
   "source": [
    "<center>\n",
    "<img src=\"./images/00_questions.jpg\" style=\"width:1200px\">\n",
    "</center>"
   ]
  },
  {
   "cell_type": "markdown",
   "metadata": {
    "slideshow": {
     "slide_type": "slide"
    }
   },
   "source": [
    "<center>\n",
    "<img src=\"./images/00_hands-on.jpg\" style=\"width:1200px\">\n",
    "</center>"
   ]
  },
  {
   "cell_type": "markdown",
   "metadata": {
    "slideshow": {
     "slide_type": "slide"
    }
   },
   "source": [
    "Here we are going to explore the datasets that we are going to use in our final project.\n",
    "* Load the dataset into a pandas dataframe.\n",
    "* describe the type of features.\n",
    "* Check the categorical variables and transform them into numerical values testing different techniques.\n",
    "\n",
    "If you don't have a dataset yet, you can use the *Student performance* datset: https://archive.ics.uci.edu/ml/datasets/Student+Performance"
   ]
  },
  {
   "cell_type": "markdown",
   "metadata": {
    "slideshow": {
     "slide_type": "slide"
    }
   },
   "source": [
    "### Model dependent encoding"
   ]
  },
  {
   "cell_type": "markdown",
   "metadata": {
    "slideshow": {
     "slide_type": "fragment"
    }
   },
   "source": [
    "Representing data depends not only on the semantics of the data, but also in the fitted model. Linear models and tree-based models have different properties when they work with different feature representations."
   ]
  },
  {
   "cell_type": "code",
   "execution_count": null,
   "metadata": {
    "slideshow": {
     "slide_type": "slide"
    }
   },
   "outputs": [],
   "source": [
    "from sklearn.linear_model import LinearRegression\n",
    "from sklearn.tree import DecisionTreeRegressor\n",
    "X, y = mglearn.datasets.make_wave(n_samples=100)\n",
    "line = np.linspace(-3, 3, 1000, endpoint=False).reshape(-1, 1)\n",
    "reg = DecisionTreeRegressor(min_samples_split=3).fit(X, y)\n",
    "plt.plot(line, reg.predict(line), label=\"decision tree\")\n",
    "reg = LinearRegression().fit(X, y)\n",
    "plt.plot(line, reg.predict(line), label=\"linear regression\")\n",
    "plt.plot(X[:, 0], y, 'o', c='k')\n",
    "plt.ylabel(\"Regression output\")\n",
    "plt.xlabel(\"Input feature\")\n",
    "plt.legend(loc=\"best\")"
   ]
  },
  {
   "cell_type": "markdown",
   "metadata": {
    "slideshow": {
     "slide_type": "slide"
    }
   },
   "source": [
    "We can increase the complexity of the linear model to capture detailed patters using *binning*\n",
    "(also known as *discretization*) of the feature"
   ]
  },
  {
   "cell_type": "code",
   "execution_count": null,
   "metadata": {
    "slideshow": {
     "slide_type": "fragment"
    }
   },
   "outputs": [],
   "source": [
    "bins = np.linspace(-3, 3, 11)\n",
    "print(\"bins: {}\".format(bins))"
   ]
  },
  {
   "cell_type": "markdown",
   "metadata": {
    "slideshow": {
     "slide_type": "fragment"
    }
   },
   "source": [
    "we record for each data point which bin it falls into:"
   ]
  },
  {
   "cell_type": "code",
   "execution_count": null,
   "metadata": {
    "slideshow": {
     "slide_type": "fragment"
    }
   },
   "outputs": [],
   "source": [
    "which_bin = np.digitize(X, bins=bins)\n",
    "print(\"\\nData points:\\n\", X[:5])\n",
    "print(\"\\nBin membership for data points:\\n\", which_bin[:5])"
   ]
  },
  {
   "cell_type": "code",
   "execution_count": null,
   "metadata": {
    "slideshow": {
     "slide_type": "slide"
    }
   },
   "outputs": [],
   "source": [
    "from sklearn.preprocessing import OneHotEncoder\n",
    "# transform using the OneHotEncoder\n",
    "encoder = OneHotEncoder(sparse=False)\n",
    "# encoder.fit finds the unique values that appear in which_bin\n",
    "encoder.fit(which_bin)\n",
    "# transform creates the one-hot encoding\n",
    "X_binned = encoder.transform(which_bin)\n",
    "print(X_binned[:5])"
   ]
  },
  {
   "cell_type": "code",
   "execution_count": null,
   "metadata": {
    "slideshow": {
     "slide_type": "fragment"
    }
   },
   "outputs": [],
   "source": [
    "print(\"X_binned.shape: {}\".format(X_binned.shape))"
   ]
  },
  {
   "cell_type": "code",
   "execution_count": null,
   "metadata": {
    "slideshow": {
     "slide_type": "slide"
    }
   },
   "outputs": [],
   "source": [
    "line_binned = encoder.transform(np.digitize(line, bins=bins))\n",
    "reg = LinearRegression().fit(X_binned, y)\n",
    "plt.plot(line, reg.predict(line_binned), label='linear regression binned')\n",
    "reg = DecisionTreeRegressor(min_samples_split=3).fit(X_binned, y)\n",
    "plt.plot(line, reg.predict(line_binned), label='decision tree binned')\n",
    "plt.plot(X[:, 0], y, 'o', c='k')\n",
    "plt.vlines(bins, -3, 3, linewidth=1, alpha=.2)\n",
    "plt.legend(loc=\"best\")\n",
    "plt.ylabel(\"Regression output\")\n",
    "plt.xlabel(\"Input feature\")"
   ]
  },
  {
   "cell_type": "markdown",
   "metadata": {
    "slideshow": {
     "slide_type": "slide"
    }
   },
   "source": [
    "## Interactions and Polynomials"
   ]
  },
  {
   "cell_type": "markdown",
   "metadata": {
    "slideshow": {
     "slide_type": "fragment"
    }
   },
   "source": [
    "Another way to enrich a feature representation, particularly for linear models, is adding interaction features and polynomial features of the original data. This kind of feature engineering is often used in statistical modeling, but it’s also common in many practical machine learning applications."
   ]
  },
  {
   "cell_type": "markdown",
   "metadata": {
    "slideshow": {
     "slide_type": "fragment"
    }
   },
   "source": [
    "One way to add a slope to the linear model on the binned data is to add the original feature (the x-axis in the plot) back in. This leads to an 11-dimensional dataset"
   ]
  },
  {
   "cell_type": "code",
   "execution_count": null,
   "metadata": {
    "slideshow": {
     "slide_type": "fragment"
    }
   },
   "outputs": [],
   "source": [
    "X_combined = np.hstack([X, X_binned])\n",
    "print(X_combined.shape)"
   ]
  },
  {
   "cell_type": "code",
   "execution_count": null,
   "metadata": {
    "slideshow": {
     "slide_type": "slide"
    }
   },
   "outputs": [],
   "source": [
    "reg = LinearRegression().fit(X_combined, y)\n",
    "line_combined = np.hstack([line, line_binned])\n",
    "plt.plot(line, reg.predict(line_combined), label='linear regression combined')\n",
    "for bin in bins:\n",
    "    plt.plot([bin, bin], [-3, 3], ':', c='k')\n",
    "plt.legend(loc=\"best\")\n",
    "plt.ylabel(\"Regression output\")\n",
    "plt.xlabel(\"Input feature\")\n",
    "plt.plot(X[:, 0], y, 'o', c='k')"
   ]
  },
  {
   "cell_type": "markdown",
   "metadata": {
    "slideshow": {
     "slide_type": "slide"
    }
   },
   "source": [
    "Adding back the original features improves the model. Increasing the amount of features by using combinations of the original seems to be the next move."
   ]
  },
  {
   "cell_type": "code",
   "execution_count": null,
   "metadata": {
    "slideshow": {
     "slide_type": "fragment"
    }
   },
   "outputs": [],
   "source": [
    "X_product = np.hstack([X_binned, X * X_binned])\n",
    "print(X_product.shape)"
   ]
  },
  {
   "cell_type": "code",
   "execution_count": null,
   "metadata": {
    "slideshow": {
     "slide_type": "slide"
    }
   },
   "outputs": [],
   "source": [
    "reg = LinearRegression().fit(X_product, y)\n",
    "line_product = np.hstack([line_binned, line * line_binned])\n",
    "plt.plot(line, reg.predict(line_product), label='linear regression product')\n",
    "for bin in bins:\n",
    "    plt.plot([bin, bin], [-3, 3], ':', c='k')\n",
    "plt.plot(X[:, 0], y, 'o', c='k')\n",
    "plt.ylabel(\"Regression output\")\n",
    "plt.xlabel(\"Input feature\")\n",
    "plt.legend(loc=\"best\")"
   ]
  },
  {
   "cell_type": "markdown",
   "metadata": {
    "slideshow": {
     "slide_type": "slide"
    }
   },
   "source": [
    "Scikit-learn has a method to include polynomical combination of features."
   ]
  },
  {
   "cell_type": "code",
   "execution_count": null,
   "metadata": {
    "slideshow": {
     "slide_type": "fragment"
    }
   },
   "outputs": [],
   "source": [
    "from sklearn.preprocessing import PolynomialFeatures\n",
    "# include polynomials up to x ** 10:\n",
    "# the default \"include_bias=True\" adds a feature that's constantly 1\n",
    "poly = PolynomialFeatures(degree=10, include_bias=False)\n",
    "poly.fit(X)\n",
    "X_poly = poly.transform(X)"
   ]
  },
  {
   "cell_type": "code",
   "execution_count": null,
   "metadata": {
    "slideshow": {
     "slide_type": "fragment"
    }
   },
   "outputs": [],
   "source": [
    "print(\"X_poly.shape: {}\".format(X_poly.shape))"
   ]
  },
  {
   "cell_type": "code",
   "execution_count": null,
   "metadata": {
    "slideshow": {
     "slide_type": "fragment"
    }
   },
   "outputs": [],
   "source": [
    "print(\"Polynomial feature names:\\n{}\".format(poly.get_feature_names()))"
   ]
  },
  {
   "cell_type": "code",
   "execution_count": null,
   "metadata": {
    "slideshow": {
     "slide_type": "slide"
    }
   },
   "outputs": [],
   "source": [
    "reg = LinearRegression().fit(X_poly, y)\n",
    "line_poly = poly.transform(line)\n",
    "plt.plot(line, reg.predict(line_poly), label='polynomial linear regression')\n",
    "plt.plot(X[:, 0], y, 'o', c='k')\n",
    "plt.ylabel(\"Regression output\")\n",
    "plt.xlabel(\"Input feature\")"
   ]
  },
  {
   "cell_type": "markdown",
   "metadata": {
    "slideshow": {
     "slide_type": "slide"
    }
   },
   "source": [
    "Adding extra features can increase the complexity of the linear model. This method can be used when the amount of features is small."
   ]
  },
  {
   "cell_type": "markdown",
   "metadata": {
    "slideshow": {
     "slide_type": "slide"
    }
   },
   "source": [
    "<center>\n",
    "<img src=\"./images/00_questions.jpg\" style=\"width:1200px\">\n",
    "</center>"
   ]
  },
  {
   "cell_type": "markdown",
   "metadata": {
    "slideshow": {
     "slide_type": "slide"
    }
   },
   "source": [
    "<center>\n",
    "<img src=\"./images/00_hands-on.jpg\" style=\"width:1200px\">\n",
    "</center>"
   ]
  },
  {
   "cell_type": "markdown",
   "metadata": {
    "slideshow": {
     "slide_type": "slide"
    }
   },
   "source": [
    "Fit different polynomial features (n=5, 10 and 50) for the next dataset:"
   ]
  },
  {
   "cell_type": "code",
   "execution_count": null,
   "metadata": {
    "slideshow": {
     "slide_type": "fragment"
    }
   },
   "outputs": [],
   "source": [
    "n_samples = 100\n",
    "X = np.linspace(0, 10, 100)\n",
    "y = X ** 3 + np.random.randn(n_samples) * 100 + 100\n",
    "plt.figure(figsize=(10,8))\n",
    "plt.scatter(X, y)"
   ]
  },
  {
   "cell_type": "markdown",
   "metadata": {
    "slideshow": {
     "slide_type": "slide"
    }
   },
   "source": [
    "## Automatic Feature Selection and AutoML\n",
    "\n"
   ]
  },
  {
   "cell_type": "markdown",
   "metadata": {
    "slideshow": {
     "slide_type": "fragment"
    }
   },
   "source": [
    "* Artifically increasing the amount of features in a dataset will increase the complexity and the compuational load when any model is fitted to the new data. Also there is a risk for overfitting.\n",
    "\n",
    "* There are different strategies for discarding generated (and in some cases original) features that are not meaningful for our dataset.\n",
    "* It is a supervised method."
   ]
  },
  {
   "cell_type": "markdown",
   "metadata": {
    "slideshow": {
     "slide_type": "fragment"
    }
   },
   "source": [
    "Scikit-learn provides with different methods, but the most used ones are: *univariate statistics*, *model-based selection*, and *iterative selection*."
   ]
  },
  {
   "cell_type": "code",
   "execution_count": null,
   "metadata": {
    "slideshow": {
     "slide_type": "slide"
    }
   },
   "outputs": [],
   "source": [
    "from sklearn.datasets import load_breast_cancer\n",
    "from sklearn.model_selection import train_test_split\n",
    "\n",
    "cancer = load_breast_cancer()\n",
    "# get deterministic random numbers\n",
    "\n",
    "rng = np.random.RandomState(42)\n",
    "noise = rng.normal(size=(len(cancer.data), 50))\n",
    "# add noise features to the data\n",
    "# the first 30 features are from the dataset, the next 50 are noise\n",
    "X_w_noise = np.hstack([cancer.data, noise])\n",
    "\n",
    "X_train, X_test, y_train, y_test = train_test_split(X_w_noise, cancer.target, random_state=0, test_size=.5)"
   ]
  },
  {
   "cell_type": "code",
   "execution_count": null,
   "metadata": {
    "slideshow": {
     "slide_type": "slide"
    }
   },
   "outputs": [],
   "source": [
    "from sklearn.feature_selection import RFE\n",
    "from sklearn.ensemble import RandomForestClassifier\n",
    "\n",
    "select = RFE(RandomForestClassifier(n_estimators=100, random_state=42),\n",
    "n_features_to_select=40)\n",
    "select.fit(X_train, y_train)\n",
    "# visualize the selected features:\n",
    "mask = select.get_support()\n",
    "plt.matshow(mask.reshape(1, -1), cmap='gray_r')\n",
    "plt.xlabel(\"Sample index\")"
   ]
  },
  {
   "cell_type": "markdown",
   "metadata": {
    "slideshow": {
     "slide_type": "slide"
    }
   },
   "source": [
    "<center>\n",
    "<img src=\"./images/00_questions.jpg\" style=\"width:1200px\">\n",
    "</center>"
   ]
  },
  {
   "cell_type": "markdown",
   "metadata": {
    "slideshow": {
     "slide_type": "slide"
    }
   },
   "source": [
    "## AutoML\n",
    "*The elephant in the room*"
   ]
  },
  {
   "cell_type": "markdown",
   "metadata": {
    "slideshow": {
     "slide_type": "slide"
    }
   },
   "source": [
    "<center>\n",
    "<img src=\"./images/automl.png\" style=\"width:1200px\">\n",
    "</center>"
   ]
  },
  {
   "cell_type": "markdown",
   "metadata": {
    "slideshow": {
     "slide_type": "slide"
    }
   },
   "source": [
    "* https://automl.github.io/auto-sklearn/master/\n",
    "* https://github.com/EpistasisLab/tpot\n",
    "* https://www.featuretools.com/\n",
    "* https://mlbox.readthedocs.io/en/latest/\n",
    "\n",
    "more here: https://pathmind.com/wiki/automl-automated-machine-learning-ai"
   ]
  },
  {
   "cell_type": "markdown",
   "metadata": {
    "slideshow": {
     "slide_type": "fragment"
    }
   },
   "source": [
    "## Conclusion\n",
    "\n",
    "* Representing data in a way that is suitable for the machine learning algorithm is really important when creating machine learning models. \n",
    "\n",
    "* It is also important to engineering new features to enhance the capabilities of, in particular, linear models. These models can learn to separate non-linear data."
   ]
  },
  {
   "cell_type": "markdown",
   "metadata": {
    "slideshow": {
     "slide_type": "slide"
    }
   },
   "source": [
    "# Imputation of missing values"
   ]
  },
  {
   "cell_type": "markdown",
   "metadata": {
    "slideshow": {
     "slide_type": "fragment"
    }
   },
   "source": [
    "For various reasons, many real world datasets contain missing values, often encoded as blanks, NaNs or other placeholders. Such datasets however are incompatible with scikit-learn estimators which assume that all values in an array are numerical, and that all have and hold meaning. "
   ]
  },
  {
   "cell_type": "markdown",
   "metadata": {
    "slideshow": {
     "slide_type": "fragment"
    }
   },
   "source": [
    "A basic strategy to use incomplete datasets is to discard entire rows and/or columns containing missing values. However, this comes at the price of losing data which may be valuable (even though incomplete)."
   ]
  },
  {
   "cell_type": "markdown",
   "metadata": {
    "slideshow": {
     "slide_type": "fragment"
    }
   },
   "source": [
    "*A better strategy is to impute the missing values, i.e., to infer them from the known part of the data.*"
   ]
  },
  {
   "cell_type": "markdown",
   "metadata": {
    "slideshow": {
     "slide_type": "slide"
    }
   },
   "source": [
    "### Univariate feature imputation\n",
    "\n",
    "The SimpleImputer class provides basic strategies for imputing missing values. Missing values can be imputed with a provided constant value, or using the statistics (mean, median or most frequent) of each column in which the missing values are located. "
   ]
  },
  {
   "cell_type": "code",
   "execution_count": null,
   "metadata": {
    "slideshow": {
     "slide_type": "fragment"
    }
   },
   "outputs": [],
   "source": [
    "from sklearn.impute import SimpleImputer\n",
    "imp = SimpleImputer(missing_values=np.nan, strategy='mean')\n",
    "imp.fit([[1, 2], [np.nan, 3], [7, 6]])\n",
    "\n",
    "X = [[np.nan, 2], [6, np.nan], [7, 6]]\n",
    "print(imp.transform(X))"
   ]
  },
  {
   "cell_type": "code",
   "execution_count": null,
   "metadata": {
    "slideshow": {
     "slide_type": "fragment"
    }
   },
   "outputs": [],
   "source": [
    "from sklearn.impute import SimpleImputer\n",
    "imp = SimpleImputer(missing_values=np.nan, strategy='constant', fill_value=3)\n",
    "imp.fit([[1, 2], [np.nan, 3], [7, 6]])\n",
    "\n",
    "X = [[np.nan, 2], [6, np.nan], [7, 6]]\n",
    "print(imp.transform(X))"
   ]
  },
  {
   "cell_type": "markdown",
   "metadata": {
    "slideshow": {
     "slide_type": "slide"
    }
   },
   "source": [
    "## Multivariate feature imputation\n",
    "\n",
    "A more sophisticated approach is to use the IterativeImputer class, which models each feature with missing values as a function of other features, and uses that estimate for imputation (*caution*: experimental estimator). "
   ]
  },
  {
   "cell_type": "code",
   "execution_count": null,
   "metadata": {
    "slideshow": {
     "slide_type": "fragment"
    }
   },
   "outputs": [],
   "source": [
    "from sklearn.experimental import enable_iterative_imputer\n",
    "from sklearn.impute import IterativeImputer\n",
    "imp = IterativeImputer(max_iter=10, random_state=0)\n",
    "imp.fit([[1, 2], [3, 6], [4, 8], [np.nan, 3], [7, np.nan]])\n",
    "\n",
    "X_test = [[np.nan, 2], [6, np.nan], [np.nan, 6]]\n",
    "\n",
    "# the model learns that the second feature is double the first\n",
    "print(np.round(imp.transform(X_test)))"
   ]
  },
  {
   "cell_type": "markdown",
   "metadata": {
    "slideshow": {
     "slide_type": "slide"
    }
   },
   "source": [
    "## Nearest neighbors imputation\n",
    "\n",
    "The KNNImputer class provides imputation for filling in missing values using the k-Nearest Neighbors approach. By default, a euclidean distance metric that supports missing values, nan_euclidean_distances, is used to find the nearest neighbors."
   ]
  },
  {
   "cell_type": "code",
   "execution_count": null,
   "metadata": {
    "slideshow": {
     "slide_type": "fragment"
    }
   },
   "outputs": [],
   "source": [
    "from sklearn.impute import KNNImputer\n",
    "nan = np.nan\n",
    "X = [[1, 2, nan], [3, 4, 3], [nan, 6, 5], [8, 8, 7]]\n",
    "imputer = KNNImputer(n_neighbors=2, weights=\"uniform\")\n",
    "imputer.fit_transform(X)"
   ]
  },
  {
   "cell_type": "markdown",
   "metadata": {
    "slideshow": {
     "slide_type": "slide"
    }
   },
   "source": [
    "## Conclusion\n",
    "\n",
    "Handling missing data using imputation methods is very important when dealing missing data. Be careful with the results, the best strategy is to compare the results with different imputation methods."
   ]
  },
  {
   "cell_type": "markdown",
   "metadata": {},
   "source": [
    "<center>\n",
    "<img src=\"./images/00_questions.jpg\" style=\"width:1200px\">\n",
    "</center>"
   ]
  },
  {
   "cell_type": "markdown",
   "metadata": {
    "slideshow": {
     "slide_type": "slide"
    }
   },
   "source": [
    "<center>\n",
    "<img src=\"./images/00_hands-on.jpg\" style=\"width:1200px\">\n",
    "</center>"
   ]
  },
  {
   "cell_type": "markdown",
   "metadata": {
    "slideshow": {
     "slide_type": "slide"
    }
   },
   "source": [
    "Here we are going to compare the performance of one model under different imputations of the data.\n",
    "\n",
    "1. Get the data from https://raw.githubusercontent.com/jbrownlee/Datasets/master/pima-indians-diabetes.csv\n",
    "Hint: use pandas as df = pd.read_csv(,header=None)\n",
    "\n",
    "Features:\n",
    "\n",
    "    0. Number of times pregnant.\n",
    "    1. Plasma glucose concentration a 2 hours in an oral glucose tolerance test.\n",
    "    2. Diastolic blood pressure (mm Hg).\n",
    "    3. Triceps skinfold thickness (mm).\n",
    "    4. 2-Hour serum insulin (mu U/ml).\n",
    "    5. Body mass index (weight in kg/(height in m)^2).\n",
    "    6. Diabetes pedigree function.\n",
    "    7. Age (years).\n",
    "    8. Class variable (0 or 1)."
   ]
  },
  {
   "cell_type": "markdown",
   "metadata": {
    "slideshow": {
     "slide_type": "slide"
    }
   },
   "source": [
    "2. Inspect the data using *describe*\n",
    "\n",
    "3. Replace the 0 values in the first 5 columns as:\n",
    " *df[[1,2,3,4,5]] = df[[1,2,3,4,5]].replace(0, np.nan)*\n",
    "\n",
    "4. remove the nan rows using \n",
    "*df.dropna(inplace=True)*. Attention! This actions will modify your origina dataframe.\n",
    "\n",
    "5. Fit a binary classifier for predicting the 8 column.\n",
    "\n",
    "6. Perform some imputation in the dataset obtained in the part 3. Fit your model again, do the accuracy improves?"
   ]
  },
  {
   "cell_type": "markdown",
   "metadata": {
    "slideshow": {
     "slide_type": "slide"
    }
   },
   "source": [
    "# Novelty and Outlier Detection\n"
   ]
  },
  {
   "cell_type": "markdown",
   "metadata": {
    "slideshow": {
     "slide_type": "fragment"
    }
   },
   "source": [
    ">Many applications require being able to decide whether a new observation belongs to the same distribution as existing observations (it is an inlier), or should be considered as different (it is an outlier). Often, this ability is used to clean real data sets. "
   ]
  },
  {
   "cell_type": "markdown",
   "metadata": {
    "slideshow": {
     "slide_type": "slide"
    }
   },
   "source": [
    "## Outlier detection:\n",
    ">The training data contains outliers which are defined as observations that are far from the others. Outlier detection estimators thus try to fit the regions where the training data is the most concentrated, ignoring the deviant observations.\n",
    "## Novelty detection:\n",
    ">The training data is not polluted by outliers and we are interested in detecting whether a new observation is an outlier. In this context an outlier is also called a novelty."
   ]
  },
  {
   "cell_type": "code",
   "execution_count": null,
   "metadata": {
    "slideshow": {
     "slide_type": "skip"
    }
   },
   "outputs": [],
   "source": [
    "import time\n",
    "\n",
    "import numpy as np\n",
    "import matplotlib\n",
    "import matplotlib.pyplot as plt\n",
    "\n",
    "from sklearn import svm\n",
    "from sklearn.datasets import make_moons, make_blobs\n",
    "from sklearn.covariance import EllipticEnvelope\n",
    "from sklearn.ensemble import IsolationForest\n",
    "from sklearn.neighbors import LocalOutlierFactor\n",
    "\n",
    "\n",
    "def get_outliers():\n",
    "    #print(__doc__)\n",
    "\n",
    "    matplotlib.rcParams['contour.negative_linestyle'] = 'solid'\n",
    "\n",
    "    # Example settings\n",
    "    n_samples = 300\n",
    "    outliers_fraction = 0.15\n",
    "    n_outliers = int(outliers_fraction * n_samples)\n",
    "    n_inliers = n_samples - n_outliers\n",
    "\n",
    "    # define outlier/anomaly detection methods to be compared\n",
    "    anomaly_algorithms = [\n",
    "        (\"Robust covariance\", EllipticEnvelope(contamination=outliers_fraction)),\n",
    "        (\"One-Class SVM\", svm.OneClassSVM(nu=outliers_fraction, kernel=\"rbf\",\n",
    "                                          gamma=0.1)),\n",
    "        (\"Isolation Forest\", IsolationForest(behaviour='new',\n",
    "                                             contamination=outliers_fraction,\n",
    "                                             random_state=42)),\n",
    "        (\"Local Outlier Factor\", LocalOutlierFactor(\n",
    "            n_neighbors=35, contamination=outliers_fraction))]\n",
    "\n",
    "    # Define datasets\n",
    "    blobs_params = dict(random_state=0, n_samples=n_inliers, n_features=2)\n",
    "    datasets = [\n",
    "        make_blobs(centers=[[0, 0], [0, 0]], cluster_std=0.5,\n",
    "                   **blobs_params)[0],\n",
    "        make_blobs(centers=[[2, 2], [-2, -2]], cluster_std=[0.5, 0.5],\n",
    "                   **blobs_params)[0],\n",
    "        make_blobs(centers=[[2, 2], [-2, -2]], cluster_std=[1.5, .3],\n",
    "                   **blobs_params)[0],\n",
    "        4. * (make_moons(n_samples=n_samples, noise=.05, random_state=0)[0] -\n",
    "              np.array([0.5, 0.25])),\n",
    "        14. * (np.random.RandomState(42).rand(n_samples, 2) - 0.5)]\n",
    "\n",
    "    # Compare given classifiers under given settings\n",
    "    xx, yy = np.meshgrid(np.linspace(-7, 7, 150),\n",
    "                         np.linspace(-7, 7, 150))\n",
    "\n",
    "    plt.figure(figsize=(len(anomaly_algorithms) * 2 + 3, 12.5))\n",
    "    plt.subplots_adjust(left=.02, right=.98, bottom=.001, top=.96, wspace=.05,\n",
    "                        hspace=.01)\n",
    "\n",
    "    plot_num = 1\n",
    "    rng = np.random.RandomState(42)\n",
    "\n",
    "    for i_dataset, X in enumerate(datasets):\n",
    "        # Add outliers\n",
    "        X = np.concatenate([X, rng.uniform(low=-6, high=6,\n",
    "                           size=(n_outliers, 2))], axis=0)\n",
    "\n",
    "        for name, algorithm in anomaly_algorithms:\n",
    "            t0 = time.time()\n",
    "            algorithm.fit(X)\n",
    "            t1 = time.time()\n",
    "            plt.subplot(len(datasets), len(anomaly_algorithms), plot_num)\n",
    "            if i_dataset == 0:\n",
    "                plt.title(name, size=18)\n",
    "\n",
    "            # fit the data and tag outliers\n",
    "            if name == \"Local Outlier Factor\":\n",
    "                y_pred = algorithm.fit_predict(X)\n",
    "            else:\n",
    "                y_pred = algorithm.fit(X).predict(X)\n",
    "\n",
    "            # plot the levels lines and the points\n",
    "            if name != \"Local Outlier Factor\":  # LOF does not implement predict\n",
    "                Z = algorithm.predict(np.c_[xx.ravel(), yy.ravel()])\n",
    "                Z = Z.reshape(xx.shape)\n",
    "                plt.contour(xx, yy, Z, levels=[0], linewidths=2, colors='black')\n",
    "\n",
    "            colors = np.array(['#377eb8', '#ff7f00'])\n",
    "            plt.scatter(X[:, 0], X[:, 1], s=10, color=colors[(y_pred + 1) // 2])\n",
    "\n",
    "            plt.xlim(-7, 7)\n",
    "            plt.ylim(-7, 7)\n",
    "            plt.xticks(())\n",
    "            plt.yticks(())\n",
    "            plt.text(.99, .01, ('%.2fs' % (t1 - t0)).lstrip('0'),\n",
    "                     transform=plt.gca().transAxes, size=15,\n",
    "                     horizontalalignment='right')\n",
    "            plot_num += 1\n",
    "\n",
    "    plt.show()"
   ]
  },
  {
   "cell_type": "code",
   "execution_count": null,
   "metadata": {
    "slideshow": {
     "slide_type": "slide"
    }
   },
   "outputs": [],
   "source": [
    "# Overview of outlier detection methods\n",
    "get_outliers()"
   ]
  },
  {
   "cell_type": "markdown",
   "metadata": {
    "slideshow": {
     "slide_type": "slide"
    }
   },
   "source": [
    "### Novelty Detection"
   ]
  },
  {
   "cell_type": "markdown",
   "metadata": {
    "slideshow": {
     "slide_type": "fragment"
    }
   },
   "source": [
    ">Consider a data set of observations from the same distribution described by features. Consider now that we add one more observation to that data set. Is the new observation so different from the others that we can doubt it is regular? (i.e. does it come from the same distribution?) Or on the contrary, is it so similar to the other that we cannot distinguish it from the original observations? This is the question addressed by the novelty detection tools and methods."
   ]
  },
  {
   "cell_type": "code",
   "execution_count": null,
   "metadata": {
    "slideshow": {
     "slide_type": "skip"
    }
   },
   "outputs": [],
   "source": [
    "#print(__doc__)\n",
    "\n",
    "import numpy as np\n",
    "import matplotlib.pyplot as plt\n",
    "import matplotlib.font_manager\n",
    "from sklearn import svm\n",
    "\n",
    "from matplotlib import rc\n",
    "font = {'family' : 'monospace', 'weight' : 'bold', 'size'   : 22}\n",
    "rc('font', **font) \n",
    "\n",
    "plt.rcParams['figure.figsize'] = [25, 12]\n",
    "plt.rcParams['lines.linewidth'] = 3.0\n",
    "plt.rcParams['lines.markersize'] = 30.\n",
    "\n",
    "plt.rcParams['legend.fontsize'] = 30\n",
    "\n",
    "def get_one_class_svm():\n",
    "\n",
    "    xx, yy = np.meshgrid(np.linspace(-5, 5, 500), np.linspace(-5, 5, 500))\n",
    "    # Generate train data\n",
    "    X = 0.3 * np.random.randn(100, 2)\n",
    "    X_train = np.r_[X + 2, X - 2]\n",
    "    # Generate some regular novel observations\n",
    "    X = 0.3 * np.random.randn(20, 2)\n",
    "    X_test = np.r_[X + 2, X - 2]\n",
    "    # Generate some abnormal novel observations\n",
    "    X_outliers = np.random.uniform(low=-4, high=4, size=(20, 2))\n",
    "\n",
    "    # fit the model\n",
    "    clf = svm.OneClassSVM(nu=0.1, kernel=\"rbf\", gamma=0.1)\n",
    "    clf.fit(X_train)\n",
    "    y_pred_train = clf.predict(X_train)\n",
    "    y_pred_test = clf.predict(X_test)\n",
    "    y_pred_outliers = clf.predict(X_outliers)\n",
    "    n_error_train = y_pred_train[y_pred_train == -1].size\n",
    "    n_error_test = y_pred_test[y_pred_test == -1].size\n",
    "    n_error_outliers = y_pred_outliers[y_pred_outliers == 1].size\n",
    "\n",
    "    # plot the line, the points, and the nearest vectors to the plane\n",
    "    Z = clf.decision_function(np.c_[xx.ravel(), yy.ravel()])\n",
    "    Z = Z.reshape(xx.shape)\n",
    "\n",
    "    plt.title(\"Novelty Detection\")\n",
    "    plt.contourf(xx, yy, Z, levels=np.linspace(Z.min(), 0, 7), cmap=plt.cm.PuBu)\n",
    "    a = plt.contour(xx, yy, Z, levels=[0], linewidths=2, colors='darkred')\n",
    "    plt.contourf(xx, yy, Z, levels=[0, Z.max()], colors='palevioletred')\n",
    "\n",
    "    s = 50\n",
    "    b1 = plt.scatter(X_train[:, 0], X_train[:, 1], c='white', s=s, edgecolors='k')\n",
    "    b2 = plt.scatter(X_test[:, 0], X_test[:, 1], c='blueviolet', s=s,\n",
    "                     edgecolors='k')\n",
    "    c = plt.scatter(X_outliers[:, 0], X_outliers[:, 1], c='gold', s=s,\n",
    "                    edgecolors='k')\n",
    "    plt.axis('tight')\n",
    "    plt.xlim((-5, 5))\n",
    "    plt.ylim((-5, 5))\n",
    "    plt.legend([a.collections[0], b1, b2, c],\n",
    "               [\"learned frontier\", \"training observations\",\n",
    "                \"new regular observations\", \"new abnormal observations\"],\n",
    "               loc=\"upper left\",\n",
    "               prop=matplotlib.font_manager.FontProperties(size=11))\n",
    "    plt.xlabel(\n",
    "        \"error train: %d/200 ; errors novel regular: %d/40 ; \"\n",
    "        \"errors novel abnormal: %d/40\"\n",
    "        % (n_error_train, n_error_test, n_error_outliers))\n",
    "    plt.show()"
   ]
  },
  {
   "cell_type": "code",
   "execution_count": null,
   "metadata": {
    "slideshow": {
     "slide_type": "slide"
    }
   },
   "outputs": [],
   "source": [
    "# One-class SVM with non-linear kernel\n",
    "get_one_class_svm()"
   ]
  },
  {
   "cell_type": "markdown",
   "metadata": {
    "slideshow": {
     "slide_type": "slide"
    }
   },
   "source": [
    "## Outlier Detection"
   ]
  },
  {
   "cell_type": "markdown",
   "metadata": {
    "slideshow": {
     "slide_type": "fragment"
    }
   },
   "source": [
    ">Outlier detection is similar to novelty detection in the sense that the goal is to separate a core of regular observations from some polluting ones, called outliers. Yet, in the case of outlier detection, we don’t have a clean data set representing the population of regular observations that can be used to train any tool."
   ]
  },
  {
   "cell_type": "code",
   "execution_count": null,
   "metadata": {
    "slideshow": {
     "slide_type": "skip"
    }
   },
   "outputs": [],
   "source": [
    "#print(__doc__)\n",
    "\n",
    "import numpy as np\n",
    "import matplotlib.pyplot as plt\n",
    "\n",
    "from sklearn.covariance import EmpiricalCovariance, MinCovDet\n",
    "\n",
    "\n",
    "def get_mahalanobis():\n",
    "\n",
    "    n_samples = 125\n",
    "    n_outliers = 25\n",
    "    n_features = 2\n",
    "\n",
    "    # generate data\n",
    "    gen_cov = np.eye(n_features)\n",
    "    gen_cov[0, 0] = 2.\n",
    "    X = np.dot(np.random.randn(n_samples, n_features), gen_cov)\n",
    "    # add some outliers\n",
    "    outliers_cov = np.eye(n_features)\n",
    "    outliers_cov[np.arange(1, n_features), np.arange(1, n_features)] = 7.\n",
    "    X[-n_outliers:] = np.dot(np.random.randn(n_outliers, n_features), outliers_cov)\n",
    "\n",
    "    # fit a Minimum Covariance Determinant (MCD) robust estimator to data\n",
    "    robust_cov = MinCovDet().fit(X)\n",
    "\n",
    "    # compare estimators learnt from the full data set with true parameters\n",
    "    emp_cov = EmpiricalCovariance().fit(X)\n",
    "\n",
    "    # #############################################################################\n",
    "    # Display results\n",
    "    fig = plt.figure()\n",
    "    plt.subplots_adjust(hspace=-.1, wspace=.4, top=.95, bottom=.05)\n",
    "\n",
    "    # Show data set\n",
    "    subfig1 = plt.subplot(3, 1, 1)\n",
    "    inlier_plot = subfig1.scatter(X[:, 0], X[:, 1],\n",
    "                                  color='black', label='inliers')\n",
    "    outlier_plot = subfig1.scatter(X[:, 0][-n_outliers:], X[:, 1][-n_outliers:],\n",
    "                                   color='red', label='outliers')\n",
    "    subfig1.set_xlim(subfig1.get_xlim()[0], 11.)\n",
    "    subfig1.set_title(\"Mahalanobis distances of a contaminated data set:\")\n",
    "\n",
    "    # Show contours of the distance functions\n",
    "    xx, yy = np.meshgrid(np.linspace(plt.xlim()[0], plt.xlim()[1], 100),\n",
    "                         np.linspace(plt.ylim()[0], plt.ylim()[1], 100))\n",
    "    zz = np.c_[xx.ravel(), yy.ravel()]\n",
    "\n",
    "    mahal_emp_cov = emp_cov.mahalanobis(zz)\n",
    "    mahal_emp_cov = mahal_emp_cov.reshape(xx.shape)\n",
    "    emp_cov_contour = subfig1.contour(xx, yy, np.sqrt(mahal_emp_cov),\n",
    "                                      cmap=plt.cm.PuBu_r,\n",
    "                                      linestyles='dashed')\n",
    "\n",
    "    mahal_robust_cov = robust_cov.mahalanobis(zz)\n",
    "    mahal_robust_cov = mahal_robust_cov.reshape(xx.shape)\n",
    "    robust_contour = subfig1.contour(xx, yy, np.sqrt(mahal_robust_cov),\n",
    "                                     cmap=plt.cm.YlOrBr_r, linestyles='dotted')\n",
    "\n",
    "    subfig1.legend([emp_cov_contour.collections[1], robust_contour.collections[1],\n",
    "                    inlier_plot, outlier_plot],\n",
    "                   ['MLE dist', 'robust dist', 'inliers', 'outliers'],\n",
    "                   loc=\"upper right\", borderaxespad=0)\n",
    "    plt.xticks(())\n",
    "    plt.yticks(())\n",
    "\n",
    "    # Plot the scores for each point\n",
    "    emp_mahal = emp_cov.mahalanobis(X - np.mean(X, 0)) ** (0.33)\n",
    "    subfig2 = plt.subplot(2, 2, 3)\n",
    "    subfig2.boxplot([emp_mahal[:-n_outliers], emp_mahal[-n_outliers:]], widths=.25)\n",
    "    subfig2.plot(np.full(n_samples - n_outliers, 1.26),\n",
    "                 emp_mahal[:-n_outliers], '+k', markeredgewidth=1)\n",
    "    subfig2.plot(np.full(n_outliers, 2.26),\n",
    "                 emp_mahal[-n_outliers:], '+k', markeredgewidth=1)\n",
    "    subfig2.axes.set_xticklabels(('inliers', 'outliers'), size=15)\n",
    "    subfig2.set_ylabel(r\"$\\sqrt[3]{\\rm{(Mahal. dist.)}}$\", size=16)\n",
    "    subfig2.set_title(\"1. from non-robust estimates\\n(Maximum Likelihood)\")\n",
    "    plt.yticks(())\n",
    "\n",
    "    robust_mahal = robust_cov.mahalanobis(X - robust_cov.location_) ** (0.33)\n",
    "    subfig3 = plt.subplot(2, 2, 4)\n",
    "    subfig3.boxplot([robust_mahal[:-n_outliers], robust_mahal[-n_outliers:]],\n",
    "                    widths=.25)\n",
    "    subfig3.plot(np.full(n_samples - n_outliers, 1.26),\n",
    "                 robust_mahal[:-n_outliers], '+k', markeredgewidth=1)\n",
    "    subfig3.plot(np.full(n_outliers, 2.26),\n",
    "                 robust_mahal[-n_outliers:], '+k', markeredgewidth=1)\n",
    "    subfig3.axes.set_xticklabels(('inliers', 'outliers'), size=15)\n",
    "    subfig3.set_ylabel(r\"$\\sqrt[3]{\\rm{(Mahal. dist.)}}$\", size=16)\n",
    "    subfig3.set_title(\"2. from robust estimates\\n(Minimum Covariance Determinant)\")\n",
    "    plt.yticks(())\n",
    "\n",
    "    plt.show()\n",
    "\n"
   ]
  },
  {
   "cell_type": "code",
   "execution_count": null,
   "metadata": {
    "slideshow": {
     "slide_type": "slide"
    }
   },
   "outputs": [],
   "source": [
    "get_mahalanobis()"
   ]
  },
  {
   "cell_type": "code",
   "execution_count": null,
   "metadata": {
    "slideshow": {
     "slide_type": "skip"
    }
   },
   "outputs": [],
   "source": [
    "import numpy as np\n",
    "import matplotlib.pyplot as plt\n",
    "from sklearn.ensemble import IsolationForest\n",
    "\n",
    "def get_isolation_forest():\n",
    "\n",
    "    rng = np.random.RandomState(42)\n",
    "\n",
    "    # Generate train data\n",
    "    X = 0.3 * rng.randn(100, 2)\n",
    "    X_train = np.r_[X + 2, X - 2]\n",
    "    # Generate some regular novel observations\n",
    "    X = 0.3 * rng.randn(20, 2)\n",
    "    X_test = np.r_[X + 2, X - 2]\n",
    "    # Generate some abnormal novel observations\n",
    "    X_outliers = rng.uniform(low=-4, high=4, size=(20, 2))\n",
    "\n",
    "    # fit the model\n",
    "    clf = IsolationForest(behaviour='new', max_samples=100,\n",
    "                          random_state=rng, contamination='auto')\n",
    "    clf.fit(X_train)\n",
    "    y_pred_train = clf.predict(X_train)\n",
    "    y_pred_test = clf.predict(X_test)\n",
    "    y_pred_outliers = clf.predict(X_outliers)\n",
    "\n",
    "    # plot the line, the samples, and the nearest vectors to the plane\n",
    "    xx, yy = np.meshgrid(np.linspace(-5, 5, 50), np.linspace(-5, 5, 50))\n",
    "    Z = clf.decision_function(np.c_[xx.ravel(), yy.ravel()])\n",
    "    Z = Z.reshape(xx.shape)\n",
    "\n",
    "    plt.title(\"IsolationForest\")\n",
    "    plt.contourf(xx, yy, Z, cmap=plt.cm.Blues_r)\n",
    "\n",
    "    b1 = plt.scatter(X_train[:, 0], X_train[:, 1], c='white',\n",
    "                     s=20, edgecolor='k')\n",
    "    b2 = plt.scatter(X_test[:, 0], X_test[:, 1], c='green',\n",
    "                     s=20, edgecolor='k')\n",
    "    c = plt.scatter(X_outliers[:, 0], X_outliers[:, 1], c='red',\n",
    "                    s=20, edgecolor='k')\n",
    "    plt.axis('tight')\n",
    "    plt.xlim((-5, 5))\n",
    "    plt.ylim((-5, 5))\n",
    "    plt.legend([b1, b2, c],\n",
    "               [\"training observations\",\n",
    "                \"new regular observations\", \"new abnormal observations\"],\n",
    "               loc=\"upper left\")\n",
    "    plt.show()"
   ]
  },
  {
   "cell_type": "code",
   "execution_count": null,
   "metadata": {
    "slideshow": {
     "slide_type": "slide"
    }
   },
   "outputs": [],
   "source": [
    "get_isolation_forest()"
   ]
  },
  {
   "cell_type": "code",
   "execution_count": null,
   "metadata": {
    "slideshow": {
     "slide_type": "skip"
    }
   },
   "outputs": [],
   "source": [
    "import numpy as np\n",
    "import matplotlib.pyplot as plt\n",
    "from sklearn.neighbors import LocalOutlierFactor\n",
    "\n",
    "#print(__doc__)\n",
    "\n",
    "def get_local_outlier_factor():\n",
    "\n",
    "    np.random.seed(42)\n",
    "\n",
    "    # Generate train data\n",
    "    X_inliers = 0.3 * np.random.randn(100, 2)\n",
    "    X_inliers = np.r_[X_inliers + 2, X_inliers - 2]\n",
    "\n",
    "    # Generate some outliers\n",
    "    X_outliers = np.random.uniform(low=-4, high=4, size=(20, 2))\n",
    "    X = np.r_[X_inliers, X_outliers]\n",
    "\n",
    "    n_outliers = len(X_outliers)\n",
    "    ground_truth = np.ones(len(X), dtype=int)\n",
    "    ground_truth[-n_outliers:] = -1\n",
    "\n",
    "    # fit the model for outlier detection (default)\n",
    "    clf = LocalOutlierFactor(n_neighbors=20, contamination=0.1)\n",
    "    # use fit_predict to compute the predicted labels of the training samples\n",
    "    # (when LOF is used for outlier detection, the estimator has no predict,\n",
    "    # decision_function and score_samples methods).\n",
    "    y_pred = clf.fit_predict(X)\n",
    "    n_errors = (y_pred != ground_truth).sum()\n",
    "    X_scores = clf.negative_outlier_factor_\n",
    "\n",
    "    plt.title(\"Local Outlier Factor (LOF)\")\n",
    "    plt.scatter(X[:, 0], X[:, 1], color='k', s=3., label='Data points')\n",
    "    # plot circles with radius proportional to the outlier scores\n",
    "    radius = (X_scores.max() - X_scores) / (X_scores.max() - X_scores.min())\n",
    "    plt.scatter(X[:, 0], X[:, 1], s=1000 * radius, edgecolors='r',\n",
    "                facecolors='none', label='Outlier scores')\n",
    "    plt.axis('tight')\n",
    "    plt.xlim((-5, 5))\n",
    "    plt.ylim((-5, 5))\n",
    "    plt.xlabel(\"prediction errors: %d\" % (n_errors))\n",
    "    legend = plt.legend(loc='upper left')\n",
    "    legend.legendHandles[0]._sizes = [10]\n",
    "    legend.legendHandles[1]._sizes = [20]\n",
    "    plt.show()"
   ]
  },
  {
   "cell_type": "code",
   "execution_count": null,
   "metadata": {
    "slideshow": {
     "slide_type": "slide"
    }
   },
   "outputs": [],
   "source": [
    "get_local_outlier_factor()"
   ]
  },
  {
   "cell_type": "markdown",
   "metadata": {
    "slideshow": {
     "slide_type": "slide"
    }
   },
   "source": [
    "<center>\n",
    "<img src=\"./images/00_questions.jpg\" style=\"width:1200px\">\n",
    "</center>"
   ]
  },
  {
   "cell_type": "markdown",
   "metadata": {
    "slideshow": {
     "slide_type": "slide"
    }
   },
   "source": [
    "# Conclusions\n",
    "\n",
    "Technique for detecting outliers and novelties are of paramount importance in the preprocessing of data and also for descriptive analytics. Be careful with the interpretation of the data"
   ]
  },
  {
   "cell_type": "markdown",
   "metadata": {
    "slideshow": {
     "slide_type": "slide"
    }
   },
   "source": [
    "<center>\n",
    "<img src=\"./images/rm.jpg\" style=\"width:1200px\">\n",
    "    Feature engineering sometimes is treated as art, not a science.\n",
    "</center>"
   ]
  },
  {
   "cell_type": "code",
   "execution_count": null,
   "metadata": {
    "slideshow": {
     "slide_type": "skip"
    }
   },
   "outputs": [],
   "source": []
  }
 ],
 "metadata": {
  "celltoolbar": "Slideshow",
  "kernelspec": {
   "display_name": "Python 3",
   "language": "python",
   "name": "python3"
  },
  "language_info": {
   "codemirror_mode": {
    "name": "ipython",
    "version": 3
   },
   "file_extension": ".py",
   "mimetype": "text/x-python",
   "name": "python",
   "nbconvert_exporter": "python",
   "pygments_lexer": "ipython3",
   "version": "3.8.3"
  },
  "latex_metadata": {
   "author": "Leonardo Espinosa",
   "title": "MLPP: Supervised Learning"
  },
  "livereveal": {
   "overlay": "<div class='myheader'><h2 class='headertekst'>Machine Learning for Descriptive Problems. Big Data Analytics Specialization <img src='./images/arcada.png' width='200' height='50'></img></h2><h3 ><a href='#/2/1'>(index)</a></h3></div>",
   "progress": true,
   "scroll": true,
   "theme": "serif",
   "transition": "simple"
  },
  "nbpresent": {
   "slides": {
    "014be348-b754-4daa-81f4-42fde293c543": {
     "id": "014be348-b754-4daa-81f4-42fde293c543",
     "prev": "1858cdd0-cf63-4a7c-8c74-86cf779af9e9",
     "regions": {
      "a08e59d0-9fdb-41da-92d8-04c8b073f384": {
       "attrs": {
        "height": 0.8,
        "width": 0.8,
        "x": 0.1,
        "y": 0.1
       },
       "content": {
        "cell": "a1887145-230d-4452-b425-7c659490b3ef",
        "part": "whole"
       },
       "id": "a08e59d0-9fdb-41da-92d8-04c8b073f384"
      }
     }
    },
    "0219d651-e259-4010-88b4-09484fd38a16": {
     "id": "0219d651-e259-4010-88b4-09484fd38a16",
     "prev": "41000680-b21e-4ccf-9644-8772955aec1e",
     "regions": {
      "d5856e56-4d20-4d18-9024-2f9bbedc3f2b": {
       "attrs": {
        "height": 0.8,
        "width": 0.8,
        "x": 0.1,
        "y": 0.1
       },
       "content": {
        "cell": "458175ff-9c19-4400-b5b1-46d05b2627c8",
        "part": "whole"
       },
       "id": "d5856e56-4d20-4d18-9024-2f9bbedc3f2b"
      }
     }
    },
    "0371e31b-7a96-4efd-b2b3-778e67d9190e": {
     "id": "0371e31b-7a96-4efd-b2b3-778e67d9190e",
     "prev": "9ebc8b4e-f971-4289-95b5-060078c7d29e",
     "regions": {
      "4cb36c72-7f43-46aa-8d62-c79523183fb4": {
       "attrs": {
        "height": 0.8,
        "width": 0.8,
        "x": 0.1,
        "y": 0.1
       },
       "content": {
        "cell": "39576c63-298e-4a6d-ac14-aba4e1c4d006",
        "part": "whole"
       },
       "id": "4cb36c72-7f43-46aa-8d62-c79523183fb4"
      }
     }
    },
    "05eeb8e7-ef49-4780-ad8d-0632791255c0": {
     "id": "05eeb8e7-ef49-4780-ad8d-0632791255c0",
     "prev": "554b57ed-d0f0-4115-96dc-9858cf1ad481",
     "regions": {
      "741aadc7-4a1e-4267-943f-c1198219cc54": {
       "attrs": {
        "height": 0.8,
        "width": 0.8,
        "x": 0.1,
        "y": 0.1
       },
       "content": {
        "cell": "0005f353-4639-4554-905c-8f25c310c224",
        "part": "whole"
       },
       "id": "741aadc7-4a1e-4267-943f-c1198219cc54"
      },
      "e713b6bd-8b1f-4eec-89b1-f67f6f54fde2": {
       "attrs": {
        "height": 0.4,
        "width": 0.8,
        "x": 0.1,
        "y": 0.5
       },
       "content": {
        "cell": "7ed9ca3a-caa0-4617-a62d-a4967e21302e",
        "part": "whole"
       },
       "id": "e713b6bd-8b1f-4eec-89b1-f67f6f54fde2"
      }
     }
    },
    "107bfd92-c9e9-4b5f-8c46-2e49f1c8c9eb": {
     "id": "107bfd92-c9e9-4b5f-8c46-2e49f1c8c9eb",
     "prev": "97b90cc3-f1a3-42a2-af3e-69005b077963",
     "regions": {
      "92533381-89e3-42fe-9049-49f4f3fe1634": {
       "attrs": {
        "height": 0.8,
        "width": 0.8,
        "x": 0.1,
        "y": 0.1
       },
       "content": {
        "cell": "ae20116a-eb68-4cb6-86d0-819b0626bdce",
        "part": "whole"
       },
       "id": "92533381-89e3-42fe-9049-49f4f3fe1634"
      }
     }
    },
    "13c83358-f208-4b33-86c5-8ffb02cdce9b": {
     "id": "13c83358-f208-4b33-86c5-8ffb02cdce9b",
     "prev": "014be348-b754-4daa-81f4-42fde293c543",
     "regions": {
      "83f3f9a2-2123-4499-bade-5f4df5920fbc": {
       "attrs": {
        "height": 0.8,
        "width": 0.8,
        "x": 0.1,
        "y": 0.1
       },
       "content": {
        "cell": "bcb7b795-c864-424e-9be6-684e5b2a15ff",
        "part": "whole"
       },
       "id": "83f3f9a2-2123-4499-bade-5f4df5920fbc"
      }
     }
    },
    "1858cdd0-cf63-4a7c-8c74-86cf779af9e9": {
     "id": "1858cdd0-cf63-4a7c-8c74-86cf779af9e9",
     "prev": "282f5e40-3d4f-470b-bc6a-e49607f04254",
     "regions": {
      "9dcdb146-cac5-4293-b64c-9f275c0ce3f5": {
       "attrs": {
        "height": 0.4,
        "width": 0.8,
        "x": 0.1,
        "y": 0.5
       },
       "content": {
        "cell": "418730a6-6d22-4878-ae29-6d4ef1572ae2",
        "part": "whole"
       },
       "id": "9dcdb146-cac5-4293-b64c-9f275c0ce3f5"
      },
      "cac922a0-c8c9-4393-bc05-c3ec7868881d": {
       "attrs": {
        "height": 0.8,
        "width": 0.8,
        "x": 0.1,
        "y": 0.1
       },
       "content": {
        "cell": "20b08b8f-ef96-420c-90b7-49062d3b0f45",
        "part": "whole"
       },
       "id": "cac922a0-c8c9-4393-bc05-c3ec7868881d"
      }
     }
    },
    "19aca98d-8ef6-43e9-81fd-290f7eed4cec": {
     "id": "19aca98d-8ef6-43e9-81fd-290f7eed4cec",
     "prev": "31428a41-ce52-46f8-a73c-43f4459eea24",
     "regions": {
      "d7bb4feb-df79-4e86-9860-3df0e55a9276": {
       "attrs": {
        "height": 0.8,
        "width": 0.8,
        "x": 0.1,
        "y": 0.1
       },
       "content": {
        "cell": "f03ddf67-607d-43d5-ba04-be2e6a0f134c",
        "part": "whole"
       },
       "id": "d7bb4feb-df79-4e86-9860-3df0e55a9276"
      }
     }
    },
    "2511806f-5451-43cc-85a9-3edd7a6ed442": {
     "id": "2511806f-5451-43cc-85a9-3edd7a6ed442",
     "prev": "fb811617-ca1a-4068-b3f7-4e123530ce63",
     "regions": {
      "8e712448-99c5-4d32-8cc3-5d9a728c3690": {
       "attrs": {
        "height": 0.8,
        "width": 0.8,
        "x": 0.1,
        "y": 0.1
       },
       "content": {
        "cell": "3f6ff5ee-5ed5-4e9a-9e55-c8aa59829485",
        "part": "whole"
       },
       "id": "8e712448-99c5-4d32-8cc3-5d9a728c3690"
      }
     }
    },
    "25623868-c1ab-48ba-9329-af50d67e0cbf": {
     "id": "25623868-c1ab-48ba-9329-af50d67e0cbf",
     "prev": "c4c52179-8db1-4792-9685-a4c14e91b2ab",
     "regions": {
      "bb88e988-603d-4500-a960-70da356406f0": {
       "attrs": {
        "height": 0.8,
        "width": 0.8,
        "x": 0.1,
        "y": 0.1
       },
       "content": {
        "cell": "00d38547-0a6c-4c96-ac2f-aed0524ef66c",
        "part": "whole"
       },
       "id": "bb88e988-603d-4500-a960-70da356406f0"
      }
     }
    },
    "258ed8e1-28ee-4363-9cbc-bb124fe0f24c": {
     "id": "258ed8e1-28ee-4363-9cbc-bb124fe0f24c",
     "layout": "manual",
     "prev": "5ab96323-7bc9-4f9f-8240-e1a899fc1048",
     "regions": {
      "0a9a19eb-86d9-46ee-9bd9-a66b500e7dfc": {
       "attrs": {
        "height": 1,
        "pad": 0.01,
        "treemap:weight": 1,
        "width": 0.5,
        "x": 0,
        "y": 0
       },
       "content": {
        "cell": "95ee1be4-4a90-4463-9b42-9c86c8415046",
        "part": "whole"
       },
       "id": "0a9a19eb-86d9-46ee-9bd9-a66b500e7dfc"
      },
      "62147765-d1bc-4c42-b7d1-ddf5babbc479": {
       "attrs": {
        "height": 0.8,
        "width": 0.8,
        "x": 0.1,
        "y": 0.1
       },
       "id": "62147765-d1bc-4c42-b7d1-ddf5babbc479"
      },
      "b7dbfea6-fde7-443c-a541-ce85fece0dea": {
       "attrs": {
        "height": 1,
        "pad": 0.01,
        "treemap:weight": 1,
        "width": 0.5,
        "x": 0.5,
        "y": 0
       },
       "content": {
        "cell": "6bf31f5d-6aa9-476b-9313-54d1c8fa73ad",
        "part": "whole"
       },
       "id": "b7dbfea6-fde7-443c-a541-ce85fece0dea"
      }
     }
    },
    "282f5e40-3d4f-470b-bc6a-e49607f04254": {
     "id": "282f5e40-3d4f-470b-bc6a-e49607f04254",
     "prev": "fb729f7e-ea2e-40af-b676-5c44bca7b9a5",
     "regions": {
      "cc5c8ccb-8e9e-4307-af3c-4d2d7f523c94": {
       "attrs": {
        "height": 0.8,
        "width": 0.8,
        "x": 0.1,
        "y": 0.1
       },
       "content": {
        "cell": "7832eee9-dc9d-44f6-8fce-46ccbe3fa960",
        "part": "whole"
       },
       "id": "cc5c8ccb-8e9e-4307-af3c-4d2d7f523c94"
      }
     }
    },
    "31428a41-ce52-46f8-a73c-43f4459eea24": {
     "id": "31428a41-ce52-46f8-a73c-43f4459eea24",
     "prev": "25623868-c1ab-48ba-9329-af50d67e0cbf",
     "regions": {
      "8ae786b8-48c0-43da-9c80-761e50402825": {
       "attrs": {
        "height": 0.8,
        "width": 0.8,
        "x": 0.1,
        "y": 0.1
       },
       "content": {
        "cell": "3c6e0171-18a6-4adb-a81c-3dd1872e877a",
        "part": "whole"
       },
       "id": "8ae786b8-48c0-43da-9c80-761e50402825"
      }
     }
    },
    "37a2dfd8-a911-4034-b499-9e2da3455a1b": {
     "id": "37a2dfd8-a911-4034-b499-9e2da3455a1b",
     "prev": "c85b7fdc-1ffe-43a7-ae64-c1e5b259a956",
     "regions": {
      "46abc3fe-59fb-44c7-8f48-a878ae3a6a35": {
       "attrs": {
        "height": 0.4,
        "width": 0.8,
        "x": 0.1,
        "y": 0.5
       },
       "content": {
        "cell": "54f0b15e-8041-463e-9682-a3cbee3af133",
        "part": "whole"
       },
       "id": "46abc3fe-59fb-44c7-8f48-a878ae3a6a35"
      },
      "ae1dac8c-2a19-4c9f-b7c0-fccf5f0d23be": {
       "attrs": {
        "height": 0.8,
        "width": 0.8,
        "x": 0.1,
        "y": 0.1
       },
       "content": {
        "cell": "5a3c94ba-305b-4a76-8d8e-b3f2d755fc05",
        "part": "whole"
       },
       "id": "ae1dac8c-2a19-4c9f-b7c0-fccf5f0d23be"
      },
      "fbd83a26-f0d4-45ca-8735-b75c9528b302": {
       "attrs": {
        "height": 0.4,
        "width": 0.8,
        "x": 0.1,
        "y": 0.5
       },
       "content": {
        "cell": "224ccbd9-f64c-4f64-9454-b8ed8e81030e",
        "part": "whole"
       },
       "id": "fbd83a26-f0d4-45ca-8735-b75c9528b302"
      }
     }
    },
    "3a97f4b2-51ee-4b5b-8cd3-0e44cd064df2": {
     "id": "3a97f4b2-51ee-4b5b-8cd3-0e44cd064df2",
     "prev": "3b39120d-1d65-4fa3-a5c0-26d9a4096217",
     "regions": {
      "6e3c9017-bd88-4981-a9c0-0b2dd09fb257": {
       "attrs": {
        "height": 0.8,
        "width": 0.8,
        "x": 0.1,
        "y": 0.1
       },
       "content": {
        "cell": "fd25ebff-a98e-4734-a4f4-da2894548ca1",
        "part": "whole"
       },
       "id": "6e3c9017-bd88-4981-a9c0-0b2dd09fb257"
      }
     }
    },
    "3b39120d-1d65-4fa3-a5c0-26d9a4096217": {
     "id": "3b39120d-1d65-4fa3-a5c0-26d9a4096217",
     "prev": "a2365a88-c2e4-476a-b031-122abe3e67d4",
     "regions": {
      "719b76f1-7348-43c2-861b-790273f78644": {
       "attrs": {
        "height": 0.8,
        "width": 0.8,
        "x": 0.1,
        "y": 0.1
       },
       "content": {
        "cell": "de02f45b-586f-4b55-8b9b-04319b0fcb4f",
        "part": "whole"
       },
       "id": "719b76f1-7348-43c2-861b-790273f78644"
      }
     }
    },
    "41000680-b21e-4ccf-9644-8772955aec1e": {
     "id": "41000680-b21e-4ccf-9644-8772955aec1e",
     "prev": "05eeb8e7-ef49-4780-ad8d-0632791255c0",
     "regions": {
      "73da3922-ea84-4270-a5ac-af27cdc5a67e": {
       "attrs": {
        "height": 0.8,
        "width": 0.8,
        "x": 0.1,
        "y": 0.1
       },
       "content": {
        "cell": "5933f028-0f50-49f3-84dd-381ffa720c55",
        "part": "whole"
       },
       "id": "73da3922-ea84-4270-a5ac-af27cdc5a67e"
      }
     }
    },
    "451a5897-34b9-4da2-920c-8dd96f32cc8a": {
     "id": "451a5897-34b9-4da2-920c-8dd96f32cc8a",
     "prev": "66ff46b7-5835-4358-ab8e-c503b4c53904",
     "regions": {
      "e73c25b9-7634-436a-817c-f6864b3e1690": {
       "attrs": {
        "height": 0.8,
        "width": 0.8,
        "x": 0.1,
        "y": 0.1
       },
       "content": {
        "cell": "46bd3e13-ee52-495d-847d-873607277dbc",
        "part": "whole"
       },
       "id": "e73c25b9-7634-436a-817c-f6864b3e1690"
      }
     }
    },
    "459b6f7a-87a1-4a1f-8939-9653f8ab19b6": {
     "id": "459b6f7a-87a1-4a1f-8939-9653f8ab19b6",
     "prev": "b7600779-3783-4f60-af06-d97c5f87256a",
     "regions": {
      "0a7f5843-01ab-4006-a14d-bd76027e95da": {
       "attrs": {
        "height": 0.4,
        "width": 0.8,
        "x": 0.1,
        "y": 0.5
       },
       "content": {
        "cell": "4e8f5a45-9cc5-4f07-85c2-7e65e24dfbbd",
        "part": "whole"
       },
       "id": "0a7f5843-01ab-4006-a14d-bd76027e95da"
      },
      "0dc3f995-8f28-4a33-85cc-6e0902829d78": {
       "attrs": {
        "height": 0.4,
        "width": 0.8,
        "x": 0.1,
        "y": 0.5
       },
       "content": {
        "cell": "cd605493-3e21-4ca0-8823-eb6f63af6081",
        "part": "whole"
       },
       "id": "0dc3f995-8f28-4a33-85cc-6e0902829d78"
      },
      "135e5744-e973-4a6f-a80b-e6dec2cc84b1": {
       "attrs": {
        "height": 0.8,
        "width": 0.8,
        "x": 0.1,
        "y": 0.1
       },
       "content": {
        "cell": "284aeb6d-45b2-4121-a0c7-bbe35a220f02",
        "part": "whole"
       },
       "id": "135e5744-e973-4a6f-a80b-e6dec2cc84b1"
      },
      "76967cdd-e67d-43f3-a687-4a5e3ae75f2a": {
       "attrs": {
        "height": 0.4,
        "width": 0.8,
        "x": 0.1,
        "y": 0.5
       },
       "content": {
        "cell": "6aad3d75-e549-409c-83c3-a651df52e65f",
        "part": "whole"
       },
       "id": "76967cdd-e67d-43f3-a687-4a5e3ae75f2a"
      },
      "e1be0eef-ee89-49d6-89ee-fa214dfab287": {
       "attrs": {
        "height": 0.4,
        "width": 0.8,
        "x": 0.1,
        "y": 0.5
       },
       "content": {
        "cell": "f4388a81-cd22-49d1-be8e-9f9169051761",
        "part": "whole"
       },
       "id": "e1be0eef-ee89-49d6-89ee-fa214dfab287"
      }
     }
    },
    "554b57ed-d0f0-4115-96dc-9858cf1ad481": {
     "id": "554b57ed-d0f0-4115-96dc-9858cf1ad481",
     "prev": "9981580b-bc34-4378-b713-b4e46ed703e2",
     "regions": {
      "3fa04684-3035-4280-9c01-b6f2f3205806": {
       "attrs": {
        "height": 0.4,
        "width": 0.8,
        "x": 0.1,
        "y": 0.5
       },
       "content": {
        "cell": "c11eff5e-84d0-488d-9c42-c55ed2c3a046",
        "part": "whole"
       },
       "id": "3fa04684-3035-4280-9c01-b6f2f3205806"
      },
      "aefdd3b5-ed93-40a5-9f82-1d076b043537": {
       "attrs": {
        "height": 0.8,
        "width": 0.8,
        "x": 0.1,
        "y": 0.1
       },
       "content": {
        "cell": "5eef5b52-3f7b-4597-ad9e-493ea9fb6246",
        "part": "whole"
       },
       "id": "aefdd3b5-ed93-40a5-9f82-1d076b043537"
      }
     }
    },
    "5ab96323-7bc9-4f9f-8240-e1a899fc1048": {
     "id": "5ab96323-7bc9-4f9f-8240-e1a899fc1048",
     "prev": "5e60026b-b9af-47c8-845a-5fc031fd664b",
     "regions": {
      "9b9df491-7fce-4574-8c5e-dd7e0f591cfb": {
       "attrs": {
        "height": 0.4,
        "width": 0.8,
        "x": 0.1,
        "y": 0.5
       },
       "content": {
        "cell": "3a5d1f05-c830-4a15-84b9-b67f6a804eb8",
        "part": "whole"
       },
       "id": "9b9df491-7fce-4574-8c5e-dd7e0f591cfb"
      },
      "dc6aedca-e6c0-4f2c-bb60-b56d92195d16": {
       "attrs": {
        "height": 0.4,
        "width": 0.8,
        "x": 0.1,
        "y": 0.5
       },
       "content": {
        "cell": "b3f50ad3-db86-455a-9030-3a812b3c0727",
        "part": "whole"
       },
       "id": "dc6aedca-e6c0-4f2c-bb60-b56d92195d16"
      },
      "f3662be5-72bd-4548-ba94-9b165145b67d": {
       "attrs": {
        "height": 0.8,
        "width": 0.8,
        "x": 0.1,
        "y": 0.1
       },
       "content": {
        "cell": "b4f8d087-224e-4b94-a836-098b2bbcae17",
        "part": "whole"
       },
       "id": "f3662be5-72bd-4548-ba94-9b165145b67d"
      }
     }
    },
    "5d660f05-2fc9-4e2b-a977-f6584aeb6a63": {
     "id": "5d660f05-2fc9-4e2b-a977-f6584aeb6a63",
     "prev": "d6013b45-72ea-411e-8d3b-cf9c7fc4f751",
     "regions": {
      "a5446025-1541-4e61-bbb4-3822ae707e45": {
       "attrs": {
        "height": 0.8,
        "width": 0.8,
        "x": 0.1,
        "y": 0.1
       },
       "content": {
        "cell": "99fb9fd7-4894-4436-a3a4-d4c8cc4d4716",
        "part": "whole"
       },
       "id": "a5446025-1541-4e61-bbb4-3822ae707e45"
      }
     }
    },
    "5e60026b-b9af-47c8-845a-5fc031fd664b": {
     "id": "5e60026b-b9af-47c8-845a-5fc031fd664b",
     "prev": "37a2dfd8-a911-4034-b499-9e2da3455a1b",
     "regions": {
      "a893ea7d-056d-40cc-8a74-6176a5acacc8": {
       "attrs": {
        "height": 0.8,
        "width": 0.8,
        "x": 0.1,
        "y": 0.1
       },
       "content": {
        "cell": "54ac1cd8-248d-4742-a7cb-985267a418d3",
        "part": "whole"
       },
       "id": "a893ea7d-056d-40cc-8a74-6176a5acacc8"
      },
      "df9a9a6a-1378-4546-bb9a-8959e13d77d8": {
       "attrs": {
        "height": 0.4,
        "width": 0.8,
        "x": 0.1,
        "y": 0.5
       },
       "content": {
        "cell": "6e73c082-189f-456b-9eca-a27a3823930d",
        "part": "whole"
       },
       "id": "df9a9a6a-1378-4546-bb9a-8959e13d77d8"
      }
     }
    },
    "66ff46b7-5835-4358-ab8e-c503b4c53904": {
     "id": "66ff46b7-5835-4358-ab8e-c503b4c53904",
     "prev": "e66f5185-9469-45fa-904c-3f8a60bc1f55",
     "regions": {
      "de7dde70-1155-4a62-9d9f-f6581e87eb07": {
       "attrs": {
        "height": 0.8,
        "width": 0.8,
        "x": 0.1,
        "y": 0.1
       },
       "content": {
        "cell": "2564c16a-8437-4ca7-a63d-82789db10af7",
        "part": "whole"
       },
       "id": "de7dde70-1155-4a62-9d9f-f6581e87eb07"
      }
     }
    },
    "8b36fd9b-9fe1-4f13-8c72-0a74ba4dfb94": {
     "id": "8b36fd9b-9fe1-4f13-8c72-0a74ba4dfb94",
     "prev": "be908c4c-60b5-4a54-a442-22fc105c606a",
     "regions": {
      "64e1e741-4296-4161-a4e2-78ffed665330": {
       "attrs": {
        "height": 0.8,
        "width": 0.8,
        "x": 0.1,
        "y": 0.1
       },
       "content": {
        "cell": "9bd41e05-91ea-4bce-8884-cf240321fa7d",
        "part": "whole"
       },
       "id": "64e1e741-4296-4161-a4e2-78ffed665330"
      }
     }
    },
    "8be5198b-40c4-4731-b6bb-c7c0df02f701": {
     "id": "8be5198b-40c4-4731-b6bb-c7c0df02f701",
     "prev": "c4f0c568-ef37-411d-b5f2-7be1fc430e69",
     "regions": {
      "51a2c53f-1ae0-43b5-8346-aaebc03b241f": {
       "attrs": {
        "height": 0.8,
        "width": 0.8,
        "x": 0.1,
        "y": 0.1
       },
       "content": {
        "cell": "be5e8221-9a6f-4c72-8fc9-c6fd552dbc1e",
        "part": "whole"
       },
       "id": "51a2c53f-1ae0-43b5-8346-aaebc03b241f"
      }
     }
    },
    "97b90cc3-f1a3-42a2-af3e-69005b077963": {
     "id": "97b90cc3-f1a3-42a2-af3e-69005b077963",
     "prev": "451a5897-34b9-4da2-920c-8dd96f32cc8a",
     "regions": {
      "042b49f1-70e7-4114-a32a-841eb1499fab": {
       "attrs": {
        "height": 0.4,
        "width": 0.8,
        "x": 0.1,
        "y": 0.5
       },
       "content": {
        "cell": "c4ec721c-2942-42d9-a1e4-2c621eb12fb9",
        "part": "whole"
       },
       "id": "042b49f1-70e7-4114-a32a-841eb1499fab"
      },
      "f359b581-265f-4fcc-8d94-ae036d9b4777": {
       "attrs": {
        "height": 0.8,
        "width": 0.8,
        "x": 0.1,
        "y": 0.1
       },
       "content": {
        "cell": "43e9b8d9-0f53-40f3-b8d9-c5b60fad5133",
        "part": "whole"
       },
       "id": "f359b581-265f-4fcc-8d94-ae036d9b4777"
      }
     }
    },
    "9981580b-bc34-4378-b713-b4e46ed703e2": {
     "id": "9981580b-bc34-4378-b713-b4e46ed703e2",
     "prev": "a0fb3c89-ada2-4f68-928b-12cb2ce39825",
     "regions": {
      "6f3ffff1-309d-40d9-a280-ec9e36ba8b32": {
       "attrs": {
        "height": 0.8,
        "width": 0.8,
        "x": 0.1,
        "y": 0.1
       },
       "content": {
        "cell": "52e28ee0-6d22-4de4-b8cb-489b3266bd58",
        "part": "whole"
       },
       "id": "6f3ffff1-309d-40d9-a280-ec9e36ba8b32"
      }
     }
    },
    "9ebc8b4e-f971-4289-95b5-060078c7d29e": {
     "id": "9ebc8b4e-f971-4289-95b5-060078c7d29e",
     "prev": null,
     "regions": {
      "5768bed8-28e4-4ffa-8bea-dfe66a7e5f1b": {
       "attrs": {
        "height": 0.8,
        "width": 0.8,
        "x": 0.1,
        "y": 0.1
       },
       "content": {
        "cell": "0643112e-3cbf-4fd0-afb8-54aeffe3fe93",
        "part": "whole"
       },
       "id": "5768bed8-28e4-4ffa-8bea-dfe66a7e5f1b"
      }
     },
     "theme": null
    },
    "a0fb3c89-ada2-4f68-928b-12cb2ce39825": {
     "id": "a0fb3c89-ada2-4f68-928b-12cb2ce39825",
     "prev": "2511806f-5451-43cc-85a9-3edd7a6ed442",
     "regions": {
      "12ad43e4-7e95-44a8-afde-b689201191f5": {
       "attrs": {
        "height": 0.8,
        "width": 0.8,
        "x": 0.1,
        "y": 0.1
       },
       "content": {
        "cell": "b2a92366-f696-4e15-a744-b45ab7986ff3",
        "part": "whole"
       },
       "id": "12ad43e4-7e95-44a8-afde-b689201191f5"
      }
     }
    },
    "a2365a88-c2e4-476a-b031-122abe3e67d4": {
     "id": "a2365a88-c2e4-476a-b031-122abe3e67d4",
     "prev": "cd20bc66-e3e4-4efd-889e-b24fcc8226fc",
     "regions": {
      "cbebee48-8247-423a-939e-65c6d07cc96a": {
       "attrs": {
        "height": 0.8,
        "width": 0.8,
        "x": 0.1,
        "y": 0.1
       },
       "content": {
        "cell": "ca50e6f1-b3eb-4396-8e0a-be52b069f162",
        "part": "whole"
       },
       "id": "cbebee48-8247-423a-939e-65c6d07cc96a"
      }
     }
    },
    "a8a627b7-91f7-4b8f-8fb4-d59449cf05e5": {
     "id": "a8a627b7-91f7-4b8f-8fb4-d59449cf05e5",
     "prev": "b8a2577d-1715-4301-8bc6-b7c833c06a2f",
     "regions": {
      "25f4f1fa-41d6-4236-8fcf-fab2c572a8a8": {
       "attrs": {
        "height": 0.8,
        "width": 0.8,
        "x": 0.1,
        "y": 0.1
       },
       "content": {
        "cell": "638e3833-24a8-4b69-af6b-e29c79f63b2a",
        "part": "whole"
       },
       "id": "25f4f1fa-41d6-4236-8fcf-fab2c572a8a8"
      },
      "d0326a00-6cb9-48ea-a4c8-6a3f1ae67254": {
       "attrs": {
        "height": 0.4,
        "width": 0.8,
        "x": 0.1,
        "y": 0.5
       },
       "content": {
        "cell": "354618e2-6431-4f78-b0d9-f9d6c4e27cbb",
        "part": "whole"
       },
       "id": "d0326a00-6cb9-48ea-a4c8-6a3f1ae67254"
      }
     }
    },
    "b7600779-3783-4f60-af06-d97c5f87256a": {
     "id": "b7600779-3783-4f60-af06-d97c5f87256a",
     "prev": "a8a627b7-91f7-4b8f-8fb4-d59449cf05e5",
     "regions": {
      "340652a9-4281-466a-b648-49baf16a3d86": {
       "attrs": {
        "height": 0.4,
        "width": 0.8,
        "x": 0.1,
        "y": 0.5
       },
       "content": {
        "cell": "eea136b7-17a2-4402-a3f0-970b981627ee",
        "part": "whole"
       },
       "id": "340652a9-4281-466a-b648-49baf16a3d86"
      },
      "f7839af3-5edc-4ec2-b304-3aced6cca65c": {
       "attrs": {
        "height": 0.8,
        "width": 0.8,
        "x": 0.1,
        "y": 0.1
       },
       "content": {
        "cell": "e7bce1ec-9fd1-4d0b-b65c-51e051842ca2",
        "part": "whole"
       },
       "id": "f7839af3-5edc-4ec2-b304-3aced6cca65c"
      }
     }
    },
    "b8a2577d-1715-4301-8bc6-b7c833c06a2f": {
     "id": "b8a2577d-1715-4301-8bc6-b7c833c06a2f",
     "prev": "107bfd92-c9e9-4b5f-8c46-2e49f1c8c9eb",
     "regions": {
      "0a7105cf-ade6-4089-9961-40ca2f51d2a4": {
       "attrs": {
        "height": 0.8,
        "width": 0.8,
        "x": 0.1,
        "y": 0.1
       },
       "content": {
        "cell": "e9d10ac4-5924-4b8d-889d-e9119c8444ea",
        "part": "whole"
       },
       "id": "0a7105cf-ade6-4089-9961-40ca2f51d2a4"
      }
     }
    },
    "be908c4c-60b5-4a54-a442-22fc105c606a": {
     "id": "be908c4c-60b5-4a54-a442-22fc105c606a",
     "prev": "13c83358-f208-4b33-86c5-8ffb02cdce9b",
     "regions": {
      "37fef285-9d4a-400b-99e2-d791195fa4fb": {
       "attrs": {
        "height": 0.8,
        "width": 0.8,
        "x": 0.1,
        "y": 0.1
       },
       "content": {
        "cell": "e0b9018c-8184-4eb9-ba8b-01bf3225e168",
        "part": "whole"
       },
       "id": "37fef285-9d4a-400b-99e2-d791195fa4fb"
      }
     }
    },
    "c4c52179-8db1-4792-9685-a4c14e91b2ab": {
     "id": "c4c52179-8db1-4792-9685-a4c14e91b2ab",
     "prev": "0219d651-e259-4010-88b4-09484fd38a16",
     "regions": {
      "c770c4c9-61c6-416f-81ca-408d12c1ad1c": {
       "attrs": {
        "height": 0.8,
        "width": 0.8,
        "x": 0.1,
        "y": 0.1
       },
       "content": {
        "cell": "e08fda87-8647-4459-a809-abbdcf18ebfe",
        "part": "whole"
       },
       "id": "c770c4c9-61c6-416f-81ca-408d12c1ad1c"
      }
     }
    },
    "c4f0c568-ef37-411d-b5f2-7be1fc430e69": {
     "id": "c4f0c568-ef37-411d-b5f2-7be1fc430e69",
     "prev": "258ed8e1-28ee-4363-9cbc-bb124fe0f24c",
     "regions": {
      "a0b4fd37-0e96-482d-912a-ffce7e534684": {
       "attrs": {
        "height": 0.4,
        "width": 0.8,
        "x": 0.1,
        "y": 0.5
       },
       "content": {
        "cell": "f6a71069-9e93-4a7d-9b0c-7e3a77501f84",
        "part": "whole"
       },
       "id": "a0b4fd37-0e96-482d-912a-ffce7e534684"
      },
      "fb1408ab-be50-4713-aaaf-327c3032df42": {
       "attrs": {
        "height": 0.8,
        "width": 0.8,
        "x": 0.1,
        "y": 0.1
       },
       "content": {
        "cell": "57f23b1b-15c8-460b-82bd-87a60624dc34",
        "part": "whole"
       },
       "id": "fb1408ab-be50-4713-aaaf-327c3032df42"
      }
     }
    },
    "c85b7fdc-1ffe-43a7-ae64-c1e5b259a956": {
     "id": "c85b7fdc-1ffe-43a7-ae64-c1e5b259a956",
     "prev": "459b6f7a-87a1-4a1f-8939-9653f8ab19b6",
     "regions": {
      "1c4411d6-6aa3-4a1e-8f13-df1a1a1412af": {
       "attrs": {
        "height": 0.4,
        "width": 0.8,
        "x": 0.1,
        "y": 0.5
       },
       "content": {
        "cell": "cd546b22-a23d-4dc4-8962-54c9a14ea0af",
        "part": "whole"
       },
       "id": "1c4411d6-6aa3-4a1e-8f13-df1a1a1412af"
      },
      "d3a7ee9d-3baa-4d5f-9462-cf330e2bbb9d": {
       "attrs": {
        "height": 0.4,
        "width": 0.8,
        "x": 0.1,
        "y": 0.5
       },
       "content": {
        "cell": "05f5a4ab-7da0-4269-9aaa-9c99de3ce3f0",
        "part": "whole"
       },
       "id": "d3a7ee9d-3baa-4d5f-9462-cf330e2bbb9d"
      },
      "eecafe82-f58a-4a9f-ad24-edcd5ae8a414": {
       "attrs": {
        "height": 0.8,
        "width": 0.8,
        "x": 0.1,
        "y": 0.1
       },
       "content": {
        "cell": "b884e1ce-ada2-4065-aa11-dd0d783166fa",
        "part": "whole"
       },
       "id": "eecafe82-f58a-4a9f-ad24-edcd5ae8a414"
      }
     }
    },
    "cd20bc66-e3e4-4efd-889e-b24fcc8226fc": {
     "id": "cd20bc66-e3e4-4efd-889e-b24fcc8226fc",
     "prev": "8be5198b-40c4-4731-b6bb-c7c0df02f701",
     "regions": {
      "7c8c0ba4-4ef9-4db1-a778-f7361ff666fe": {
       "attrs": {
        "height": 0.8,
        "width": 0.8,
        "x": 0.1,
        "y": 0.1
       },
       "content": {
        "cell": "55070123-ac6f-4896-94de-d50a98dfc37b",
        "part": "whole"
       },
       "id": "7c8c0ba4-4ef9-4db1-a778-f7361ff666fe"
      }
     }
    },
    "d20cb590-23a1-43cf-a74f-b4eb887f277c": {
     "id": "d20cb590-23a1-43cf-a74f-b4eb887f277c",
     "prev": "3a97f4b2-51ee-4b5b-8cd3-0e44cd064df2",
     "regions": {
      "30713b08-b536-4c17-8ad8-db7a8a5c6444": {
       "attrs": {
        "height": 0.8,
        "width": 0.8,
        "x": 0.1,
        "y": 0.1
       },
       "content": {
        "cell": "02993a7a-6a16-4b57-b2b7-b28c4f392877",
        "part": "whole"
       },
       "id": "30713b08-b536-4c17-8ad8-db7a8a5c6444"
      }
     }
    },
    "d6013b45-72ea-411e-8d3b-cf9c7fc4f751": {
     "id": "d6013b45-72ea-411e-8d3b-cf9c7fc4f751",
     "prev": "0371e31b-7a96-4efd-b2b3-778e67d9190e",
     "regions": {
      "bbd27922-09cb-40f9-aac9-d34d8e7d206c": {
       "attrs": {
        "height": 0.8,
        "width": 0.8,
        "x": 0.1,
        "y": 0.1
       },
       "content": {
        "cell": "a089a6f8-158b-483a-8f20-71af2d3f96d7",
        "part": "whole"
       },
       "id": "bbd27922-09cb-40f9-aac9-d34d8e7d206c"
      }
     }
    },
    "e5b820bd-e7e0-4d0f-a7c0-fa076c3c54ad": {
     "id": "e5b820bd-e7e0-4d0f-a7c0-fa076c3c54ad",
     "prev": "f89b63b4-122c-427f-a469-4f7fb3dd16b3",
     "regions": {
      "8a43e080-e855-4c13-8b7a-aaf04b55061a": {
       "attrs": {
        "height": 0.8,
        "width": 0.8,
        "x": 0.1,
        "y": 0.1
       },
       "content": {
        "cell": "865aabe8-fa7a-42c6-821e-284e7d1eac20",
        "part": "whole"
       },
       "id": "8a43e080-e855-4c13-8b7a-aaf04b55061a"
      }
     }
    },
    "e66f5185-9469-45fa-904c-3f8a60bc1f55": {
     "id": "e66f5185-9469-45fa-904c-3f8a60bc1f55",
     "prev": "19aca98d-8ef6-43e9-81fd-290f7eed4cec",
     "regions": {
      "f7451a75-2e26-4d8f-96f8-8d045d2ea59b": {
       "attrs": {
        "height": 0.8,
        "width": 0.8,
        "x": 0.1,
        "y": 0.1
       },
       "content": {
        "cell": "6f63fa54-d56f-434f-943f-be2a6f0e3d05",
        "part": "whole"
       },
       "id": "f7451a75-2e26-4d8f-96f8-8d045d2ea59b"
      }
     }
    },
    "f89b63b4-122c-427f-a469-4f7fb3dd16b3": {
     "id": "f89b63b4-122c-427f-a469-4f7fb3dd16b3",
     "prev": "5d660f05-2fc9-4e2b-a977-f6584aeb6a63",
     "regions": {
      "ee2afadf-d97a-4e98-92e6-f62e8ef382f4": {
       "attrs": {
        "height": 0.8,
        "width": 0.8,
        "x": 0.1,
        "y": 0.1
       },
       "content": {
        "cell": "1a2123db-9495-46fd-8b45-2793922819d4",
        "part": "whole"
       },
       "id": "ee2afadf-d97a-4e98-92e6-f62e8ef382f4"
      }
     }
    },
    "fb729f7e-ea2e-40af-b676-5c44bca7b9a5": {
     "id": "fb729f7e-ea2e-40af-b676-5c44bca7b9a5",
     "prev": "e5b820bd-e7e0-4d0f-a7c0-fa076c3c54ad",
     "regions": {
      "8aa22b01-56c9-45c7-8676-0aa4e5cbb462": {
       "attrs": {
        "height": 0.8,
        "width": 0.8,
        "x": 0.1,
        "y": 0.1
       },
       "content": {
        "cell": "4c0046b6-ffb7-4e8a-8b52-74d9acb5bb76",
        "part": "whole"
       },
       "id": "8aa22b01-56c9-45c7-8676-0aa4e5cbb462"
      }
     }
    },
    "fb811617-ca1a-4068-b3f7-4e123530ce63": {
     "id": "fb811617-ca1a-4068-b3f7-4e123530ce63",
     "prev": "8b36fd9b-9fe1-4f13-8c72-0a74ba4dfb94",
     "regions": {
      "967a1e60-5e01-45c5-ab7b-83e82b358f60": {
       "attrs": {
        "height": 0.8,
        "width": 0.8,
        "x": 0.1,
        "y": 0.1
       },
       "content": {
        "cell": "9c430ab5-7187-41af-b53b-ef9faeda2d13",
        "part": "whole"
       },
       "id": "967a1e60-5e01-45c5-ab7b-83e82b358f60"
      }
     }
    }
   },
   "themes": {}
  }
 },
 "nbformat": 4,
 "nbformat_minor": 1
}
